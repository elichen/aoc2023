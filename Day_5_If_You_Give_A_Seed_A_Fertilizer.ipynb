{
  "nbformat": 4,
  "nbformat_minor": 0,
  "metadata": {
    "colab": {
      "provenance": [],
      "authorship_tag": "ABX9TyOTFbJISKa4TtTW1WZ/Kbwg",
      "include_colab_link": true
    },
    "kernelspec": {
      "name": "python3",
      "display_name": "Python 3"
    },
    "language_info": {
      "name": "python"
    }
  },
  "cells": [
    {
      "cell_type": "markdown",
      "metadata": {
        "id": "view-in-github",
        "colab_type": "text"
      },
      "source": [
        "<a href=\"https://colab.research.google.com/github/elichen/aoc2023/blob/main/Day_5_If_You_Give_A_Seed_A_Fertilizer.ipynb\" target=\"_parent\"><img src=\"https://colab.research.google.com/assets/colab-badge.svg\" alt=\"Open In Colab\"/></a>"
      ]
    },
    {
      "cell_type": "code",
      "execution_count": null,
      "metadata": {
        "id": "1nBdPgH0c6-h"
      },
      "outputs": [],
      "source": [
        "input = \"\"\"seeds: 79 14 55 13\n",
        "\n",
        "seed-to-soil map:\n",
        "50 98 2\n",
        "52 50 48\n",
        "\n",
        "soil-to-fertilizer map:\n",
        "0 15 37\n",
        "37 52 2\n",
        "39 0 15\n",
        "\n",
        "fertilizer-to-water map:\n",
        "49 53 8\n",
        "0 11 42\n",
        "42 0 7\n",
        "57 7 4\n",
        "\n",
        "water-to-light map:\n",
        "88 18 7\n",
        "18 25 70\n",
        "\n",
        "light-to-temperature map:\n",
        "45 77 23\n",
        "81 45 19\n",
        "68 64 13\n",
        "\n",
        "temperature-to-humidity map:\n",
        "0 69 1\n",
        "1 0 69\n",
        "\n",
        "humidity-to-location map:\n",
        "60 56 37\n",
        "56 93 4\"\"\".split('\\n')"
      ]
    },
    {
      "cell_type": "code",
      "source": [
        "input = open(\"input.txt\").readlines()\n",
        "input = [x.rstrip() for x in input]"
      ],
      "metadata": {
        "id": "b9cMAObNl_pZ"
      },
      "execution_count": null,
      "outputs": []
    },
    {
      "cell_type": "code",
      "source": [
        "# Initial empty structures for seeds and maps\n",
        "seeds = []\n",
        "maps = []\n",
        "\n",
        "# Temporary list to store current map values\n",
        "current_map = []\n",
        "\n",
        "# Iterate through each line\n",
        "for line in input:\n",
        "    # Skip empty lines\n",
        "    if not line.strip():\n",
        "        continue\n",
        "\n",
        "    # Check if the line contains 'map:' to switch to a new map\n",
        "    if 'map:' in line:\n",
        "        # If there is a current map, add it to the maps list and reset it\n",
        "        if current_map:\n",
        "            maps.append(current_map)\n",
        "            current_map = []\n",
        "    elif 'seeds:' in line:\n",
        "        # Parsing seeds line\n",
        "        seeds = [int(num) for num in line.split() if num.isdigit()]\n",
        "    else:\n",
        "        # Splitting the line into numbers and converting them to integers\n",
        "        numbers = [int(num) for num in line.split()]\n",
        "        current_map.append(tuple(numbers))\n",
        "\n",
        "# Adding the last map if it exists\n",
        "if current_map:\n",
        "    maps.append(current_map)"
      ],
      "metadata": {
        "id": "UAvDrWUDc_jT"
      },
      "execution_count": null,
      "outputs": []
    },
    {
      "cell_type": "code",
      "source": [
        "def get_mapping(num, triple):\n",
        "  if num >= triple[1] and num < triple[1]+triple[2]:\n",
        "    offset = num-triple[1]\n",
        "    return triple[0]+offset\n",
        "  else:\n",
        "    return None\n",
        "\n",
        "lowest = 10**9\n",
        "for number in seeds:\n",
        "  for m in maps:\n",
        "    for l in m:\n",
        "      result = get_mapping(number, l)\n",
        "      if result != None:\n",
        "        number = result\n",
        "        break\n",
        "  if number < lowest: lowest = number\n",
        "lowest"
      ],
      "metadata": {
        "colab": {
          "base_uri": "https://localhost:8080/"
        },
        "id": "bb4Ij1DBh57Q",
        "outputId": "18d03f34-fcaf-48bd-89d2-0b1cd309f6a1"
      },
      "execution_count": null,
      "outputs": [
        {
          "output_type": "execute_result",
          "data": {
            "text/plain": [
              "88151870"
            ]
          },
          "metadata": {},
          "execution_count": 121
        }
      ]
    },
    {
      "cell_type": "code",
      "source": [
        "def map_ranges(mapping_functions, input_ranges):\n",
        "    output_tuples = []\n",
        "    buffer = input_ranges.copy()\n",
        "\n",
        "    while buffer:\n",
        "        input_range = buffer.pop(0)\n",
        "        input_start, input_len = input_range\n",
        "        input_end = input_start + input_len\n",
        "\n",
        "        for dst, src, length in mapping_functions:\n",
        "            src_end = src + length\n",
        "            # Check for overlap\n",
        "            if src < input_end and input_start < src_end:\n",
        "                # Calculate overlap\n",
        "                overlap_start = max(input_start, src)\n",
        "                overlap_end = min(input_end, src_end)\n",
        "                overlap_len = overlap_end - overlap_start\n",
        "\n",
        "                # Map to new range\n",
        "                mapped_start = dst + (overlap_start - src)\n",
        "                output_tuples.append((mapped_start, overlap_len))\n",
        "\n",
        "                # Update buffer for remaining input range\n",
        "                if input_start < overlap_start:\n",
        "                    buffer.append((input_start, overlap_start - input_start))\n",
        "                if overlap_end < input_end:\n",
        "                    buffer.append((overlap_end, input_end - overlap_end))\n",
        "                break\n",
        "        else:\n",
        "            # If no overlap, add range to output as is\n",
        "            output_tuples.append(input_range)\n",
        "\n",
        "    return output_tuples"
      ],
      "metadata": {
        "id": "lQ6ov9PADc06"
      },
      "execution_count": null,
      "outputs": []
    },
    {
      "cell_type": "code",
      "source": [
        "seed_ranges = list(zip(seeds[::2], seeds[1::2]))\n",
        "# print([(x[0],x[0]+x[1]) for x in seed_ranges])\n",
        "for map in maps:\n",
        "  seed_ranges = map_ranges(map, seed_ranges)\n",
        "  # print([(x[0],x[0]+x[1]) for x in seed_ranges])\n",
        "sorted(seed_ranges, key=lambda x: x[0])[0]"
      ],
      "metadata": {
        "colab": {
          "base_uri": "https://localhost:8080/"
        },
        "id": "_ohyksZG9pmq",
        "outputId": "1c27a1e0-0b5a-46ed-aa79-b02431da680c"
      },
      "execution_count": null,
      "outputs": [
        {
          "output_type": "execute_result",
          "data": {
            "text/plain": [
              "(2008785, 11277377)"
            ]
          },
          "metadata": {},
          "execution_count": 123
        }
      ]
    }
  ]
}