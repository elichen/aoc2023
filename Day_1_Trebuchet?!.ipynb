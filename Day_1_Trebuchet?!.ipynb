{
  "nbformat": 4,
  "nbformat_minor": 0,
  "metadata": {
    "colab": {
      "provenance": [],
      "authorship_tag": "ABX9TyOw85uj7oPFwYwn33G9Alls",
      "include_colab_link": true
    },
    "kernelspec": {
      "name": "python3",
      "display_name": "Python 3"
    },
    "language_info": {
      "name": "python"
    }
  },
  "cells": [
    {
      "cell_type": "markdown",
      "metadata": {
        "id": "view-in-github",
        "colab_type": "text"
      },
      "source": [
        "<a href=\"https://colab.research.google.com/github/elichen/aoc2023/blob/main/Day_1_Trebuchet%3F!.ipynb\" target=\"_parent\"><img src=\"https://colab.research.google.com/assets/colab-badge.svg\" alt=\"Open In Colab\"/></a>"
      ]
    },
    {
      "cell_type": "code",
      "source": [
        "input = \"\"\"\n",
        "two1nine\n",
        "eightwothree\n",
        "abcone2threexyz\n",
        "xtwone3four\n",
        "4nineeightseven2\n",
        "zoneight234\n",
        "7pqrstsixteen\n",
        "\"\"\".split()\n",
        "input = open(\"input.txt\")\n",
        "input = [x.rstrip() for x in input]"
      ],
      "metadata": {
        "id": "1IECqgjQXb6O"
      },
      "execution_count": null,
      "outputs": []
    },
    {
      "cell_type": "code",
      "execution_count": null,
      "metadata": {
        "colab": {
          "base_uri": "https://localhost:8080/"
        },
        "id": "BIyjoF2lXV0U",
        "outputId": "038ab85e-7532-4922-9b71-178f8a8f80a9"
      },
      "outputs": [
        {
          "output_type": "execute_result",
          "data": {
            "text/plain": [
              "55090"
            ]
          },
          "metadata": {},
          "execution_count": 2
        }
      ],
      "source": [
        "total = 0\n",
        "for line in input:\n",
        "    first_digit = ''\n",
        "    last_digit = ''\n",
        "\n",
        "    # Finding the first digit\n",
        "    for char in line:\n",
        "        if char.isdigit():\n",
        "            first_digit = char\n",
        "            break\n",
        "\n",
        "    # Finding the last digit (reversing the line for simplicity)\n",
        "    for char in reversed(line):\n",
        "        if char.isdigit():\n",
        "            last_digit = char\n",
        "            break\n",
        "\n",
        "    if first_digit and last_digit:\n",
        "        total += int(first_digit + last_digit)\n",
        "total"
      ]
    },
    {
      "cell_type": "code",
      "source": [
        "import re\n",
        "\n",
        "nums = []\n",
        "def parse_and_combine(line):\n",
        "    # Mapping of text numbers to their digit equivalents\n",
        "    text_to_digit = {\n",
        "        \"one\": \"1\", \"two\": \"2\", \"three\": \"3\", \"four\": \"4\",\n",
        "        \"five\": \"5\", \"six\": \"6\", \"seven\": \"7\", \"eight\": \"8\", \"nine\": \"9\"\n",
        "    }\n",
        "\n",
        "    # Function to convert text to digit\n",
        "    def text_to_num(text):\n",
        "        return text_to_digit.get(text, text)\n",
        "\n",
        "    # Extracting all words and digits from the line\n",
        "    words_and_digits = re.findall(r'one|two|three|four|five|six|seven|eight|nine|\\d', line)\n",
        "\n",
        "    # If no valid digit or word is found, return None\n",
        "    if not words_and_digits:\n",
        "        return None\n",
        "\n",
        "    # First digit or word\n",
        "    first = words_and_digits[0]\n",
        "\n",
        "    # Last digit or word, which can be the same as the first if there's only one match\n",
        "    last = words_and_digits[-1]\n",
        "\n",
        "    # Converting the first and last elements\n",
        "    first_digit = text_to_num(first)\n",
        "    last_digit = text_to_num(last)\n",
        "\n",
        "    # Returning the two-digit number\n",
        "    return first_digit + last_digit\n",
        "\n",
        "for line in input:\n",
        "    nums.append(int(parse_and_combine(line)))\n",
        "sum(nums)"
      ],
      "metadata": {
        "colab": {
          "base_uri": "https://localhost:8080/"
        },
        "id": "QfwB1DgVYZjo",
        "outputId": "ab0104ae-8e92-48ea-9b8b-c8fa9912549d"
      },
      "execution_count": null,
      "outputs": [
        {
          "output_type": "execute_result",
          "data": {
            "text/plain": [
              "54871"
            ]
          },
          "metadata": {},
          "execution_count": 11
        }
      ]
    },
    {
      "cell_type": "code",
      "source": [
        "nums = []\n",
        "def find_first_last_digit_v2(s):\n",
        "    \"\"\"Find the first and last digit in a string, supporting numeric and textual digits, with correct parsing.\"\"\"\n",
        "    digits = [\"1\", \"2\", \"3\", \"4\", \"5\", \"6\", \"7\", \"8\", \"9\", \"one\", \"two\", \"three\", \"four\", \"five\", \"six\", \"seven\", \"eight\", \"nine\"]\n",
        "\n",
        "    first_digit = last_digit = None\n",
        "    first_digit_index = len(s)\n",
        "    last_digit_index = -1\n",
        "\n",
        "    # Find first and last digit positions\n",
        "    for d in digits:\n",
        "        first_index = s.find(d)\n",
        "        last_index = s.rfind(d)\n",
        "\n",
        "        if first_index != -1 and first_index < first_digit_index:\n",
        "            first_digit_index = first_index\n",
        "            first_digit = parse_digit(d)\n",
        "\n",
        "        if last_index != -1 and last_index > last_digit_index:\n",
        "            last_digit_index = last_index\n",
        "            last_digit = parse_digit(d)\n",
        "\n",
        "    if first_digit and last_digit:\n",
        "        return first_digit + last_digit\n",
        "    else:\n",
        "        return None\n",
        "\n",
        "# Test cases\n",
        "for case in input:\n",
        "    nums.append(int(find_first_last_digit_v2(case)))\n",
        "sum(nums)"
      ],
      "metadata": {
        "colab": {
          "base_uri": "https://localhost:8080/"
        },
        "id": "uIH8fjgLed6K",
        "outputId": "3da416a5-5cca-4f64-d2ed-49fd91e0398d"
      },
      "execution_count": null,
      "outputs": [
        {
          "output_type": "execute_result",
          "data": {
            "text/plain": [
              "54845"
            ]
          },
          "metadata": {},
          "execution_count": 25
        }
      ]
    },
    {
      "cell_type": "code",
      "source": [],
      "metadata": {
        "id": "43eSeoqUiGrd"
      },
      "execution_count": null,
      "outputs": []
    }
  ]
}