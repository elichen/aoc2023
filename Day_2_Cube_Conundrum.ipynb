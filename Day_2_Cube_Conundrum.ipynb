{
  "nbformat": 4,
  "nbformat_minor": 0,
  "metadata": {
    "colab": {
      "provenance": [],
      "authorship_tag": "ABX9TyNFDZyk01d5PdR4imtBMc9q",
      "include_colab_link": true
    },
    "kernelspec": {
      "name": "python3",
      "display_name": "Python 3"
    },
    "language_info": {
      "name": "python"
    }
  },
  "cells": [
    {
      "cell_type": "markdown",
      "metadata": {
        "id": "view-in-github",
        "colab_type": "text"
      },
      "source": [
        "<a href=\"https://colab.research.google.com/github/elichen/aoc2023/blob/main/Day_2_Cube_Conundrum.ipynb\" target=\"_parent\"><img src=\"https://colab.research.google.com/assets/colab-badge.svg\" alt=\"Open In Colab\"/></a>"
      ]
    },
    {
      "cell_type": "code",
      "execution_count": null,
      "metadata": {
        "id": "SGLp7zinG40i"
      },
      "outputs": [],
      "source": [
        "input = \"\"\"Game 1: 3 blue, 4 red; 1 red, 2 green, 6 blue; 2 green\n",
        "Game 2: 1 blue, 2 green; 3 green, 4 blue, 1 red; 1 green, 1 blue\n",
        "Game 3: 8 green, 6 blue, 20 red; 5 blue, 4 red, 13 green; 5 green, 1 red\n",
        "Game 4: 1 green, 3 red, 6 blue; 3 green, 6 red; 3 green, 15 blue, 14 red\n",
        "Game 5: 6 red, 1 blue, 3 green; 2 blue, 1 red, 2 green\"\"\".split('\\n')\n",
        "input = open(\"input.txt\").readlines()\n",
        "input = [x.rstrip() for x in input]"
      ]
    },
    {
      "cell_type": "code",
      "source": [
        "def parse(colors):\n",
        "  for color in colors:\n",
        "      count, color_name = color.split(' ')\n",
        "      if color_name == \"red\" and int(count) > 12:\n",
        "        return False\n",
        "      if color_name == \"green\" and int(count) > 13:\n",
        "        return False\n",
        "      if color_name == \"blue\" and int(count) > 14:\n",
        "        return False\n",
        "  return True\n",
        "\n",
        "def parse_tuples(color_tuples):\n",
        "    for color_tuple in color_tuples:\n",
        "        colors = color_tuple.split(', ')\n",
        "        if not parse(colors):\n",
        "          return False\n",
        "    return True\n",
        "\n",
        "total = 0\n",
        "for game in input:\n",
        "    # Split the game string into components (game number and color tuples)\n",
        "    game_components = game.split(': ')\n",
        "    game_number = game_components[0].split()[-1]\n",
        "    color_tuples = game_components[1].split('; ')\n",
        "\n",
        "    if parse_tuples(color_tuples):\n",
        "      total += int(game_number)\n",
        "total"
      ],
      "metadata": {
        "colab": {
          "base_uri": "https://localhost:8080/"
        },
        "id": "FL-fhstNG-Nn",
        "outputId": "1f030a8e-5889-41af-994c-a1057253a6b1"
      },
      "execution_count": null,
      "outputs": [
        {
          "output_type": "execute_result",
          "data": {
            "text/plain": [
              "2285"
            ]
          },
          "metadata": {},
          "execution_count": 47
        }
      ]
    },
    {
      "cell_type": "code",
      "source": [
        "total = 0\n",
        "for game in input:\n",
        "    # Split the game string into components (game number and color tuples)\n",
        "    game_components = game.split(': ')\n",
        "    game_number = game_components[0].split()[-1]\n",
        "    color_tuples = game_components[1].split('; ')\n",
        "\n",
        "    max_r, max_g, max_b = [0]*3\n",
        "    for color_tuple in color_tuples:\n",
        "        colors = color_tuple.split(', ')\n",
        "        for color in colors:\n",
        "            count, color_name = color.split(' ')\n",
        "            count = int(count)\n",
        "            if color_name == \"red\":\n",
        "              max_r = max_r if count < max_r else count\n",
        "            if color_name == \"green\":\n",
        "              max_g = max_g if count < max_g else count\n",
        "            if color_name == \"blue\":\n",
        "              max_b = max_b if count < max_b else count\n",
        "    total += max_r * max_g * max_b\n",
        "total"
      ],
      "metadata": {
        "colab": {
          "base_uri": "https://localhost:8080/"
        },
        "id": "2gZAhIpFKqgR",
        "outputId": "8d0e07ce-acb3-4130-ed6c-b4ae8c0eff7f"
      },
      "execution_count": null,
      "outputs": [
        {
          "output_type": "execute_result",
          "data": {
            "text/plain": [
              "77021"
            ]
          },
          "metadata": {},
          "execution_count": 49
        }
      ]
    }
  ]
}