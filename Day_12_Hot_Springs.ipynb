{
  "nbformat": 4,
  "nbformat_minor": 0,
  "metadata": {
    "colab": {
      "provenance": [],
      "authorship_tag": "ABX9TyOrp2adT9VJvHABrFoPxdAO",
      "include_colab_link": true
    },
    "kernelspec": {
      "name": "python3",
      "display_name": "Python 3"
    },
    "language_info": {
      "name": "python"
    },
    "widgets": {
      "application/vnd.jupyter.widget-state+json": {
        "336d3d87bbcd409e81d42cd384b49a5d": {
          "model_module": "@jupyter-widgets/controls",
          "model_name": "HBoxModel",
          "model_module_version": "1.5.0",
          "state": {
            "_dom_classes": [],
            "_model_module": "@jupyter-widgets/controls",
            "_model_module_version": "1.5.0",
            "_model_name": "HBoxModel",
            "_view_count": null,
            "_view_module": "@jupyter-widgets/controls",
            "_view_module_version": "1.5.0",
            "_view_name": "HBoxView",
            "box_style": "",
            "children": [
              "IPY_MODEL_114cd09a2f6a46bb9f6d17635a09ec62",
              "IPY_MODEL_65f9aac3a3274106862f28f7680d3594",
              "IPY_MODEL_e1de7e638b8a4fada3cc2756328db46d"
            ],
            "layout": "IPY_MODEL_f121434997ff4045ad74cdbd7fda3ec6"
          }
        },
        "114cd09a2f6a46bb9f6d17635a09ec62": {
          "model_module": "@jupyter-widgets/controls",
          "model_name": "HTMLModel",
          "model_module_version": "1.5.0",
          "state": {
            "_dom_classes": [],
            "_model_module": "@jupyter-widgets/controls",
            "_model_module_version": "1.5.0",
            "_model_name": "HTMLModel",
            "_view_count": null,
            "_view_module": "@jupyter-widgets/controls",
            "_view_module_version": "1.5.0",
            "_view_name": "HTMLView",
            "description": "",
            "description_tooltip": null,
            "layout": "IPY_MODEL_18ac358721f144bf910ce5faaf825a82",
            "placeholder": "​",
            "style": "IPY_MODEL_d33ed9afbc4e4c43aa0179f8dcddecd1",
            "value": "100%"
          }
        },
        "65f9aac3a3274106862f28f7680d3594": {
          "model_module": "@jupyter-widgets/controls",
          "model_name": "FloatProgressModel",
          "model_module_version": "1.5.0",
          "state": {
            "_dom_classes": [],
            "_model_module": "@jupyter-widgets/controls",
            "_model_module_version": "1.5.0",
            "_model_name": "FloatProgressModel",
            "_view_count": null,
            "_view_module": "@jupyter-widgets/controls",
            "_view_module_version": "1.5.0",
            "_view_name": "ProgressView",
            "bar_style": "success",
            "description": "",
            "description_tooltip": null,
            "layout": "IPY_MODEL_173d3556639145ad895b040a75562198",
            "max": 1000,
            "min": 0,
            "orientation": "horizontal",
            "style": "IPY_MODEL_8ebf4e95e6e34407b618a7f7010276bd",
            "value": 1000
          }
        },
        "e1de7e638b8a4fada3cc2756328db46d": {
          "model_module": "@jupyter-widgets/controls",
          "model_name": "HTMLModel",
          "model_module_version": "1.5.0",
          "state": {
            "_dom_classes": [],
            "_model_module": "@jupyter-widgets/controls",
            "_model_module_version": "1.5.0",
            "_model_name": "HTMLModel",
            "_view_count": null,
            "_view_module": "@jupyter-widgets/controls",
            "_view_module_version": "1.5.0",
            "_view_name": "HTMLView",
            "description": "",
            "description_tooltip": null,
            "layout": "IPY_MODEL_07450b4e945441d08ad1797632b7bc02",
            "placeholder": "​",
            "style": "IPY_MODEL_374572f5b4a742208357c6bf0d71ab56",
            "value": " 1000/1000 [00:00&lt;00:00, 26763.55it/s]"
          }
        },
        "f121434997ff4045ad74cdbd7fda3ec6": {
          "model_module": "@jupyter-widgets/base",
          "model_name": "LayoutModel",
          "model_module_version": "1.2.0",
          "state": {
            "_model_module": "@jupyter-widgets/base",
            "_model_module_version": "1.2.0",
            "_model_name": "LayoutModel",
            "_view_count": null,
            "_view_module": "@jupyter-widgets/base",
            "_view_module_version": "1.2.0",
            "_view_name": "LayoutView",
            "align_content": null,
            "align_items": null,
            "align_self": null,
            "border": null,
            "bottom": null,
            "display": null,
            "flex": null,
            "flex_flow": null,
            "grid_area": null,
            "grid_auto_columns": null,
            "grid_auto_flow": null,
            "grid_auto_rows": null,
            "grid_column": null,
            "grid_gap": null,
            "grid_row": null,
            "grid_template_areas": null,
            "grid_template_columns": null,
            "grid_template_rows": null,
            "height": null,
            "justify_content": null,
            "justify_items": null,
            "left": null,
            "margin": null,
            "max_height": null,
            "max_width": null,
            "min_height": null,
            "min_width": null,
            "object_fit": null,
            "object_position": null,
            "order": null,
            "overflow": null,
            "overflow_x": null,
            "overflow_y": null,
            "padding": null,
            "right": null,
            "top": null,
            "visibility": null,
            "width": null
          }
        },
        "18ac358721f144bf910ce5faaf825a82": {
          "model_module": "@jupyter-widgets/base",
          "model_name": "LayoutModel",
          "model_module_version": "1.2.0",
          "state": {
            "_model_module": "@jupyter-widgets/base",
            "_model_module_version": "1.2.0",
            "_model_name": "LayoutModel",
            "_view_count": null,
            "_view_module": "@jupyter-widgets/base",
            "_view_module_version": "1.2.0",
            "_view_name": "LayoutView",
            "align_content": null,
            "align_items": null,
            "align_self": null,
            "border": null,
            "bottom": null,
            "display": null,
            "flex": null,
            "flex_flow": null,
            "grid_area": null,
            "grid_auto_columns": null,
            "grid_auto_flow": null,
            "grid_auto_rows": null,
            "grid_column": null,
            "grid_gap": null,
            "grid_row": null,
            "grid_template_areas": null,
            "grid_template_columns": null,
            "grid_template_rows": null,
            "height": null,
            "justify_content": null,
            "justify_items": null,
            "left": null,
            "margin": null,
            "max_height": null,
            "max_width": null,
            "min_height": null,
            "min_width": null,
            "object_fit": null,
            "object_position": null,
            "order": null,
            "overflow": null,
            "overflow_x": null,
            "overflow_y": null,
            "padding": null,
            "right": null,
            "top": null,
            "visibility": null,
            "width": null
          }
        },
        "d33ed9afbc4e4c43aa0179f8dcddecd1": {
          "model_module": "@jupyter-widgets/controls",
          "model_name": "DescriptionStyleModel",
          "model_module_version": "1.5.0",
          "state": {
            "_model_module": "@jupyter-widgets/controls",
            "_model_module_version": "1.5.0",
            "_model_name": "DescriptionStyleModel",
            "_view_count": null,
            "_view_module": "@jupyter-widgets/base",
            "_view_module_version": "1.2.0",
            "_view_name": "StyleView",
            "description_width": ""
          }
        },
        "173d3556639145ad895b040a75562198": {
          "model_module": "@jupyter-widgets/base",
          "model_name": "LayoutModel",
          "model_module_version": "1.2.0",
          "state": {
            "_model_module": "@jupyter-widgets/base",
            "_model_module_version": "1.2.0",
            "_model_name": "LayoutModel",
            "_view_count": null,
            "_view_module": "@jupyter-widgets/base",
            "_view_module_version": "1.2.0",
            "_view_name": "LayoutView",
            "align_content": null,
            "align_items": null,
            "align_self": null,
            "border": null,
            "bottom": null,
            "display": null,
            "flex": null,
            "flex_flow": null,
            "grid_area": null,
            "grid_auto_columns": null,
            "grid_auto_flow": null,
            "grid_auto_rows": null,
            "grid_column": null,
            "grid_gap": null,
            "grid_row": null,
            "grid_template_areas": null,
            "grid_template_columns": null,
            "grid_template_rows": null,
            "height": null,
            "justify_content": null,
            "justify_items": null,
            "left": null,
            "margin": null,
            "max_height": null,
            "max_width": null,
            "min_height": null,
            "min_width": null,
            "object_fit": null,
            "object_position": null,
            "order": null,
            "overflow": null,
            "overflow_x": null,
            "overflow_y": null,
            "padding": null,
            "right": null,
            "top": null,
            "visibility": null,
            "width": null
          }
        },
        "8ebf4e95e6e34407b618a7f7010276bd": {
          "model_module": "@jupyter-widgets/controls",
          "model_name": "ProgressStyleModel",
          "model_module_version": "1.5.0",
          "state": {
            "_model_module": "@jupyter-widgets/controls",
            "_model_module_version": "1.5.0",
            "_model_name": "ProgressStyleModel",
            "_view_count": null,
            "_view_module": "@jupyter-widgets/base",
            "_view_module_version": "1.2.0",
            "_view_name": "StyleView",
            "bar_color": null,
            "description_width": ""
          }
        },
        "07450b4e945441d08ad1797632b7bc02": {
          "model_module": "@jupyter-widgets/base",
          "model_name": "LayoutModel",
          "model_module_version": "1.2.0",
          "state": {
            "_model_module": "@jupyter-widgets/base",
            "_model_module_version": "1.2.0",
            "_model_name": "LayoutModel",
            "_view_count": null,
            "_view_module": "@jupyter-widgets/base",
            "_view_module_version": "1.2.0",
            "_view_name": "LayoutView",
            "align_content": null,
            "align_items": null,
            "align_self": null,
            "border": null,
            "bottom": null,
            "display": null,
            "flex": null,
            "flex_flow": null,
            "grid_area": null,
            "grid_auto_columns": null,
            "grid_auto_flow": null,
            "grid_auto_rows": null,
            "grid_column": null,
            "grid_gap": null,
            "grid_row": null,
            "grid_template_areas": null,
            "grid_template_columns": null,
            "grid_template_rows": null,
            "height": null,
            "justify_content": null,
            "justify_items": null,
            "left": null,
            "margin": null,
            "max_height": null,
            "max_width": null,
            "min_height": null,
            "min_width": null,
            "object_fit": null,
            "object_position": null,
            "order": null,
            "overflow": null,
            "overflow_x": null,
            "overflow_y": null,
            "padding": null,
            "right": null,
            "top": null,
            "visibility": null,
            "width": null
          }
        },
        "374572f5b4a742208357c6bf0d71ab56": {
          "model_module": "@jupyter-widgets/controls",
          "model_name": "DescriptionStyleModel",
          "model_module_version": "1.5.0",
          "state": {
            "_model_module": "@jupyter-widgets/controls",
            "_model_module_version": "1.5.0",
            "_model_name": "DescriptionStyleModel",
            "_view_count": null,
            "_view_module": "@jupyter-widgets/base",
            "_view_module_version": "1.2.0",
            "_view_name": "StyleView",
            "description_width": ""
          }
        }
      }
    }
  },
  "cells": [
    {
      "cell_type": "markdown",
      "metadata": {
        "id": "view-in-github",
        "colab_type": "text"
      },
      "source": [
        "<a href=\"https://colab.research.google.com/github/elichen/aoc2023/blob/main/Day_12_Hot_Springs.ipynb\" target=\"_parent\"><img src=\"https://colab.research.google.com/assets/colab-badge.svg\" alt=\"Open In Colab\"/></a>"
      ]
    },
    {
      "cell_type": "code",
      "source": [
        "input = \"\"\"???.### 1,1,3\n",
        ".??..??...?##. 1,1,3\n",
        "?#?#?#?#?#?#?#? 1,3,1,6\n",
        "????.#...#... 4,1,1\n",
        "????.######..#####. 1,6,5\n",
        "?###???????? 3,2,1\"\"\".split('\\n')"
      ],
      "metadata": {
        "id": "pWQoFdJ_TcJ1"
      },
      "execution_count": null,
      "outputs": []
    },
    {
      "cell_type": "code",
      "source": [
        "input = [x.rstrip() for x in open(\"input.txt\").readlines()]"
      ],
      "metadata": {
        "id": "LeWjgc0tT-li"
      },
      "execution_count": null,
      "outputs": []
    },
    {
      "cell_type": "code",
      "source": [
        "def parse_spec_sequence_pairs(data):\n",
        "    pairs = []\n",
        "    for line in data:\n",
        "        # Splitting each line into spec and sequence string\n",
        "        spec, sequence_str = line.split(' ')\n",
        "        # Converting sequence string into a list of integers\n",
        "        sequence = list(map(int, sequence_str.split(',')))\n",
        "        pairs.append((spec, sequence))\n",
        "    return pairs"
      ],
      "metadata": {
        "id": "u0HRff7NSz3G"
      },
      "execution_count": null,
      "outputs": []
    },
    {
      "cell_type": "code",
      "source": [
        "from functools import lru_cache\n",
        "\n",
        "@lru_cache(maxsize=None)  # Set maxsize to None for unlimited cache\n",
        "def count_possibilities2(spec, seq, pattern=''):\n",
        "    # Base case: if sequence is empty and spec has no \"#\", return 1\n",
        "    if not seq and '#' not in spec:\n",
        "        # print(pattern)  # For debugging\n",
        "        return 1\n",
        "\n",
        "    possibilities = 0\n",
        "    remaining_chars = sum(1 for char in spec if char in ['?', '#'])\n",
        "    seq_sum = sum(seq)\n",
        "\n",
        "    # Case 1: Only remove leftmost char if there are enough '?'s for the sequences\n",
        "    if spec and (spec[0] == '.' or spec[0] == '?') and remaining_chars >= seq_sum:\n",
        "        new_char = '.' if spec[0] == '?' else ''\n",
        "        possibilities += count_possibilities2(spec[1:], seq) # , pattern + new_char\n",
        "\n",
        "    # Case 2: Check if a valid sequence of \"#\" can be formed\n",
        "    if seq and len(spec) >= seq[0] and (seq[0] == len(spec) or spec[seq[0]] in ['.', '?']):\n",
        "        if '.' not in spec[:seq[0]]:\n",
        "            new_char = '#' * seq[0] + ('.' if seq[0] < len(spec) else '')\n",
        "            possibilities += count_possibilities2(spec[seq[0] + 1:], seq[1:]) # , pattern + new_char\n",
        "\n",
        "    return possibilities\n",
        "\n",
        "# Test with the new spec and sequence\n",
        "spec = \".?#??????.?#???..??\"\n",
        "seq = [8, 4, 2]\n",
        "count_possibilities2(spec, tuple(seq))"
      ],
      "metadata": {
        "colab": {
          "base_uri": "https://localhost:8080/"
        },
        "id": "mXr-GybW3AH7",
        "outputId": "b981bf88-934e-4ed0-a923-e88314cc7f9d"
      },
      "execution_count": null,
      "outputs": [
        {
          "output_type": "execute_result",
          "data": {
            "text/plain": [
              "2"
            ]
          },
          "metadata": {},
          "execution_count": 64
        }
      ]
    },
    {
      "cell_type": "code",
      "execution_count": null,
      "metadata": {
        "id": "or2e-MHbKFrU"
      },
      "outputs": [],
      "source": [
        "def count_possibilities(spec, sequences, memo=None):\n",
        "    if memo is None:\n",
        "        memo = {}\n",
        "\n",
        "    # Check if the current spec is already computed\n",
        "    if spec in memo:\n",
        "        return memo[spec]\n",
        "\n",
        "    # Base case: if there are no '?' characters\n",
        "    if '?' not in spec:\n",
        "        # Check if the spec matches the sequences\n",
        "        filtered = [len(s) for s in spec.split('.') if s]\n",
        "        if filtered == sequences:\n",
        "            return 1\n",
        "        else:\n",
        "            return 0\n",
        "\n",
        "    # Recursive case: replace '?' with '#' or '.'\n",
        "    possibilities = 0\n",
        "    for replacement in ['#', '.']:\n",
        "        new_spec = spec.replace('?', replacement, 1)\n",
        "        possibilities += count_possibilities(new_spec, sequences, memo)\n",
        "\n",
        "    # Store the result in memo and return\n",
        "    memo[spec] = possibilities\n",
        "    return possibilities"
      ]
    },
    {
      "cell_type": "code",
      "source": [
        "total = 0\n",
        "for spec,seq in parse_spec_sequence_pairs(input):\n",
        "  c1 = count_possibilities2(spec, tuple(seq))\n",
        "  # c2 = count_possibilities(spec, seq)\n",
        "  # if c1 != c2:\n",
        "  #   print(spec,seq)\n",
        "  #   break\n",
        "  total += c1\n",
        "total"
      ],
      "metadata": {
        "colab": {
          "base_uri": "https://localhost:8080/"
        },
        "id": "oL9q0gmKxC-L",
        "outputId": "86fb76bd-64ee-4cce-de96-ed59e814ae32"
      },
      "execution_count": null,
      "outputs": [
        {
          "output_type": "execute_result",
          "data": {
            "text/plain": [
              "7191"
            ]
          },
          "metadata": {},
          "execution_count": 63
        }
      ]
    },
    {
      "cell_type": "code",
      "source": [
        "spec = \".?#??????.?#???..??\"\n",
        "seq = [8, 4, 2]\n",
        "c1 = count_possibilities2(spec, tuple(seq))\n",
        "c2 = count_possibilities(spec, seq)\n",
        "c1,c2"
      ],
      "metadata": {
        "colab": {
          "base_uri": "https://localhost:8080/"
        },
        "id": "m5reANfOmMoQ",
        "outputId": "0f9c439f-3ed2-46ff-9aa1-49879794e057"
      },
      "execution_count": null,
      "outputs": [
        {
          "output_type": "execute_result",
          "data": {
            "text/plain": [
              "(2, 2)"
            ]
          },
          "metadata": {},
          "execution_count": 65
        }
      ]
    },
    {
      "cell_type": "code",
      "source": [
        "def parse_spec_sequence_pairs_unfolded(data):\n",
        "    pairs = []\n",
        "    for line in data:\n",
        "        # Splitting each line into spec and sequence string\n",
        "        spec, sequence_str = line.split(' ')\n",
        "        spec = \"?\".join([spec] * 5)\n",
        "        # Converting sequence string into a list of integers\n",
        "        sequence = list(map(int, sequence_str.split(',')))\n",
        "        sequence = sequence*5\n",
        "        pairs.append((spec, sequence))\n",
        "    return pairs"
      ],
      "metadata": {
        "id": "eQCaeHfZT5H1"
      },
      "execution_count": null,
      "outputs": []
    },
    {
      "cell_type": "code",
      "source": [
        "spec = \"????????.?##?????????????????.?##?????????????????.?##?????????????????.?##?????????????????.?##????????\"\n",
        "seq = tuple([3, 1, 1, 4, 1, 1, 3, 1, 1, 4, 1, 1, 3, 1, 1, 4, 1, 1, 3, 1, 1, 4, 1, 1, 3, 1, 1, 4, 1, 1])\n",
        "count_possibilities2(spec, seq)"
      ],
      "metadata": {
        "colab": {
          "base_uri": "https://localhost:8080/"
        },
        "id": "obEI3E6EyrYG",
        "outputId": "21a3c51b-3c6e-4696-a29e-c227573c4265"
      },
      "execution_count": null,
      "outputs": [
        {
          "output_type": "execute_result",
          "data": {
            "text/plain": [
              "70220760064"
            ]
          },
          "metadata": {},
          "execution_count": 66
        }
      ]
    },
    {
      "cell_type": "code",
      "source": [
        "from tqdm.notebook import tqdm\n",
        "\n",
        "total = 0\n",
        "for spec,seq in tqdm(parse_spec_sequence_pairs_unfolded(input)):\n",
        "  # print(spec,seq)\n",
        "  total += count_possibilities2(spec, tuple(seq))\n",
        "total"
      ],
      "metadata": {
        "colab": {
          "base_uri": "https://localhost:8080/",
          "height": 67,
          "referenced_widgets": [
            "336d3d87bbcd409e81d42cd384b49a5d",
            "114cd09a2f6a46bb9f6d17635a09ec62",
            "65f9aac3a3274106862f28f7680d3594",
            "e1de7e638b8a4fada3cc2756328db46d",
            "f121434997ff4045ad74cdbd7fda3ec6",
            "18ac358721f144bf910ce5faaf825a82",
            "d33ed9afbc4e4c43aa0179f8dcddecd1",
            "173d3556639145ad895b040a75562198",
            "8ebf4e95e6e34407b618a7f7010276bd",
            "07450b4e945441d08ad1797632b7bc02",
            "374572f5b4a742208357c6bf0d71ab56"
          ]
        },
        "id": "3YT7NWdCYA4x",
        "outputId": "dd5caae5-b3ed-4d98-cfb8-df5165b1f357"
      },
      "execution_count": null,
      "outputs": [
        {
          "output_type": "display_data",
          "data": {
            "text/plain": [
              "  0%|          | 0/1000 [00:00<?, ?it/s]"
            ],
            "application/vnd.jupyter.widget-view+json": {
              "version_major": 2,
              "version_minor": 0,
              "model_id": "336d3d87bbcd409e81d42cd384b49a5d"
            }
          },
          "metadata": {}
        },
        {
          "output_type": "execute_result",
          "data": {
            "text/plain": [
              "6512849198636"
            ]
          },
          "metadata": {},
          "execution_count": 69
        }
      ]
    }
  ]
}