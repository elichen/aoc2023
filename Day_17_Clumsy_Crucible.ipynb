{
  "nbformat": 4,
  "nbformat_minor": 0,
  "metadata": {
    "colab": {
      "provenance": [],
      "authorship_tag": "ABX9TyONrlhvQuEzeMRBeF/fzziQ",
      "include_colab_link": true
    },
    "kernelspec": {
      "name": "python3",
      "display_name": "Python 3"
    },
    "language_info": {
      "name": "python"
    }
  },
  "cells": [
    {
      "cell_type": "markdown",
      "metadata": {
        "id": "view-in-github",
        "colab_type": "text"
      },
      "source": [
        "<a href=\"https://colab.research.google.com/github/elichen/aoc2023/blob/main/Day_17_Clumsy_Crucible.ipynb\" target=\"_parent\"><img src=\"https://colab.research.google.com/assets/colab-badge.svg\" alt=\"Open In Colab\"/></a>"
      ]
    },
    {
      "cell_type": "code",
      "execution_count": null,
      "metadata": {
        "id": "7eoI57gwc_cl"
      },
      "outputs": [],
      "source": [
        "input = \"\"\"2413432311323\n",
        "3215453535623\n",
        "3255245654254\n",
        "3446585845452\n",
        "4546657867536\n",
        "1438598798454\n",
        "4457876987766\n",
        "3637877979653\n",
        "4654967986887\n",
        "4564679986453\n",
        "1224686865563\n",
        "2546548887735\n",
        "4322674655533\"\"\".split('\\n')"
      ]
    },
    {
      "cell_type": "code",
      "source": [
        "input = [x.rstrip() for x in open(\"input.txt\").readlines()]"
      ],
      "metadata": {
        "id": "GCnJC104kxwl"
      },
      "execution_count": null,
      "outputs": []
    },
    {
      "cell_type": "code",
      "source": [
        "from heapq import heappush, heappop\n",
        "\n",
        "def find_lowest_cost_path_dijkstra(map_data):\n",
        "    rows, cols = len(map_data), len(map_data[0])\n",
        "    directions = [(0, 1), (1, 0), (0, -1), (-1, 0)]  # right, down, left, up\n",
        "\n",
        "    # Helper function to get cost and check bounds\n",
        "    def get_cost(row, col):\n",
        "        if 0 <= row < rows and 0 <= col < cols:\n",
        "            return int(map_data[row][col])\n",
        "        return float('inf')\n",
        "\n",
        "    # Priority queue for Dijkstra's algorithm\n",
        "    pq = [(0, 0, 0, 0, 1)]  # cost, row, col, direction index, direction count\n",
        "\n",
        "    # Visited states: (row, col, direction index, direction count)\n",
        "    visited = set()\n",
        "\n",
        "    while pq:\n",
        "        cost, row, col, dir_idx, dir_count = heappop(pq)\n",
        "\n",
        "        # Skip already visited states with the same direction and count\n",
        "        if (row, col, dir_idx, dir_count) in visited:\n",
        "            continue\n",
        "\n",
        "        visited.add((row, col, dir_idx, dir_count))\n",
        "\n",
        "        # Check if reached destination\n",
        "        if row == rows - 1 and col == cols - 1:\n",
        "            return cost\n",
        "\n",
        "        # Generate possible next states\n",
        "        if dir_count < 3:  # Continue in the same direction\n",
        "            next_row, next_col = row + directions[dir_idx][0], col + directions[dir_idx][1]\n",
        "            next_cost = cost + get_cost(next_row, next_col)\n",
        "            if next_cost < float('inf'):\n",
        "                heappush(pq, (next_cost, next_row, next_col, dir_idx, dir_count + 1))\n",
        "\n",
        "        # Turn left and right\n",
        "        for d in [-1, 1]:\n",
        "            next_dir_idx = (dir_idx + d) % 4\n",
        "            next_row, next_col = row + directions[next_dir_idx][0], col + directions[next_dir_idx][1]\n",
        "            next_cost = cost + get_cost(next_row, next_col)\n",
        "            if next_cost < float('inf'):\n",
        "                heappush(pq, (next_cost, next_row, next_col, next_dir_idx, 1))\n",
        "\n",
        "    return float('inf')  # In case there is no path\n",
        "\n",
        "# Re-testing with the Dijkstra-based function\n",
        "find_lowest_cost_path_dijkstra(input)"
      ],
      "metadata": {
        "colab": {
          "base_uri": "https://localhost:8080/"
        },
        "id": "dA1Exl6rdJjb",
        "outputId": "49511c2a-6b0b-441d-c7d4-bd0e9ac5f68d"
      },
      "execution_count": null,
      "outputs": [
        {
          "output_type": "execute_result",
          "data": {
            "text/plain": [
              "845"
            ]
          },
          "metadata": {},
          "execution_count": 32
        }
      ]
    },
    {
      "cell_type": "code",
      "source": [
        "def find_lowest_cost_path_modified_dijkstra(map_data):\n",
        "    rows, cols = len(map_data), len(map_data[0])\n",
        "    directions = [(0, 1), (1, 0), (0, -1), (-1, 0)]  # right, down, left, up\n",
        "\n",
        "    # Helper function to get cost and check bounds\n",
        "    def get_cost(row, col):\n",
        "        if 0 <= row < rows and 0 <= col < cols:\n",
        "            return int(map_data[row][col])\n",
        "        return float('inf')\n",
        "\n",
        "    # Priority queue for Dijkstra's algorithm\n",
        "    pq = [(int(map_data[0][1]), 0, 1, 0, 1),\n",
        "          (int(map_data[1][0]), 1, 0, 1, 1)]\n",
        "\n",
        "    # Visited states: (row, col, direction index, direction count)\n",
        "    visited = set()\n",
        "\n",
        "    while pq:\n",
        "    # for _ in range(10):\n",
        "        cost, row, col, dir_idx, dir_count = heappop(pq)\n",
        "        # print(cost, row, col, dir_idx, dir_count)\n",
        "\n",
        "        # Skip already visited states with the same direction and count\n",
        "        if (row, col, dir_idx, dir_count) in visited:\n",
        "            continue\n",
        "\n",
        "        visited.add((row, col, dir_idx, dir_count))\n",
        "\n",
        "        # Check if reached destination\n",
        "        if row == rows - 1 and col == cols - 1 and dir_count >= 4:\n",
        "            return cost\n",
        "\n",
        "        # Generate possible next states\n",
        "        if dir_count < 10:  # Continue in the same direction, up to 10 blocks\n",
        "            next_row, next_col = row + directions[dir_idx][0], col + directions[dir_idx][1]\n",
        "            next_cost = cost + get_cost(next_row, next_col)\n",
        "            if next_cost < float('inf'):\n",
        "                heappush(pq, (next_cost, next_row, next_col, dir_idx, dir_count + 1))\n",
        "\n",
        "        # Turn left and right only if moved at least 4 blocks\n",
        "        if dir_count >= 4:\n",
        "            for d in [-1, 1]:\n",
        "                next_dir_idx = (dir_idx + d) % 4\n",
        "                next_row, next_col = row + directions[next_dir_idx][0], col + directions[next_dir_idx][1]\n",
        "                next_cost = cost + get_cost(next_row, next_col)\n",
        "                if next_cost < float('inf'):\n",
        "                    heappush(pq, (next_cost, next_row, next_col, next_dir_idx, 1))\n",
        "\n",
        "    return float('inf')  # In case there is no path\n",
        "\n",
        "# Testing the modified Dijkstra's function\n",
        "find_lowest_cost_path_modified_dijkstra(input)\n"
      ],
      "metadata": {
        "colab": {
          "base_uri": "https://localhost:8080/"
        },
        "id": "2N-XMa_Dk0rd",
        "outputId": "8f61856a-20c8-45ab-d58a-ebf8e2e84283"
      },
      "execution_count": null,
      "outputs": [
        {
          "output_type": "execute_result",
          "data": {
            "text/plain": [
              "993"
            ]
          },
          "metadata": {},
          "execution_count": 33
        }
      ]
    }
  ]
}