{
  "nbformat": 4,
  "nbformat_minor": 0,
  "metadata": {
    "colab": {
      "provenance": [],
      "authorship_tag": "ABX9TyMGWpxiw/9WUqlf3CxNN3/G",
      "include_colab_link": true
    },
    "kernelspec": {
      "name": "python3",
      "display_name": "Python 3"
    },
    "language_info": {
      "name": "python"
    }
  },
  "cells": [
    {
      "cell_type": "markdown",
      "metadata": {
        "id": "view-in-github",
        "colab_type": "text"
      },
      "source": [
        "<a href=\"https://colab.research.google.com/github/elichen/aoc2023/blob/main/Day_22_Sand_Slabs.ipynb\" target=\"_parent\"><img src=\"https://colab.research.google.com/assets/colab-badge.svg\" alt=\"Open In Colab\"/></a>"
      ]
    },
    {
      "cell_type": "code",
      "execution_count": null,
      "metadata": {
        "id": "nWQrGqf0U_CL"
      },
      "outputs": [],
      "source": [
        "input = \"\"\"1,0,1~1,2,1\n",
        "0,0,2~2,0,2\n",
        "0,2,3~2,2,3\n",
        "0,0,4~0,2,4\n",
        "2,0,5~2,2,5\n",
        "0,1,6~2,1,6\n",
        "1,1,8~1,1,9\"\"\".split('\\n')"
      ]
    },
    {
      "cell_type": "code",
      "source": [
        "input = [x.rstrip() for x in open(\"input.txt\").readlines()]"
      ],
      "metadata": {
        "id": "vjrsM-TXaMLm"
      },
      "execution_count": null,
      "outputs": []
    },
    {
      "cell_type": "code",
      "source": [
        "def parse_bricks(brick_list):\n",
        "    parsed_bricks = []\n",
        "    for brick in brick_list:\n",
        "        ends = brick.split('~')\n",
        "        coords = tuple(tuple(int(n) for n in end.split(',')) for end in ends)\n",
        "        parsed_bricks.append(coords)\n",
        "    return parsed_bricks"
      ],
      "metadata": {
        "id": "BlRrdbc9VGqi"
      },
      "execution_count": null,
      "outputs": []
    },
    {
      "cell_type": "code",
      "source": [
        "import numpy as np\n",
        "\n",
        "import numpy as np\n",
        "\n",
        "def simulate_fall(bricks):\n",
        "    # Determine the size of the occupancy map\n",
        "    max_x = max_y = max_z = 0\n",
        "    for brick in bricks:\n",
        "        for end in brick:\n",
        "            max_x = max(max_x, end[0])\n",
        "            max_y = max(max_y, end[1])\n",
        "            max_z = max(max_z, end[2])\n",
        "\n",
        "    # Create a 3D occupancy map\n",
        "    occupancy_map = np.zeros((max_x + 1, max_y + 1, max_z + 1), dtype=int)\n",
        "\n",
        "    # Fill the map with the initial positions of the bricks\n",
        "    for brick in bricks:\n",
        "        x1, y1, z1 = brick[0]\n",
        "        x2, y2, z2 = brick[1]\n",
        "        occupancy_map[min(x1, x2):max(x1, x2) + 1,\n",
        "                      min(y1, y2):max(y1, y2) + 1,\n",
        "                      min(z1, z2):max(z1, z2) + 1] = 1\n",
        "\n",
        "    # Function to check if a position is occupied\n",
        "    def is_blocked(x1, y1, x2, y2, z):\n",
        "        for x in range(min(x1, x2), max(x1, x2) + 1):\n",
        "            for y in range(min(y1, y2), max(y1, y2) + 1):\n",
        "                if occupancy_map[x, y, max(z - 1, 1)] == 1:\n",
        "                    return True\n",
        "        return False\n",
        "\n",
        "    # Sort bricks by their lowest z-value\n",
        "    bricks.sort(key=lambda b: min(b[0][2], b[1][2]))\n",
        "\n",
        "    # Simulate the fall\n",
        "    new_bricks = []\n",
        "    for brick in bricks:\n",
        "        x1, y1, z1 = brick[0]\n",
        "        x2, y2, z2 = brick[1]\n",
        "        # Zero out the old position of the brick\n",
        "        occupancy_map[min(x1, x2):max(x1, x2) + 1,\n",
        "                      min(y1, y2):max(y1, y2) + 1,\n",
        "                      min(z1, z2):max(z1, z2) + 1] = 0\n",
        "        if not is_blocked(x1, y1, x2, y2, min(z1, z2)) and min(z1, z2) > 1:\n",
        "            z1 -= 1\n",
        "            z2 -= 1\n",
        "        # Update the occupancy map with the new position\n",
        "        occupancy_map[min(x1, x2):max(x1, x2) + 1,\n",
        "                      min(y1, y2):max(y1, y2) + 1,\n",
        "                      min(z1, z2):max(z1, z2) + 1] = 1\n",
        "        new_bricks.append(((x1, y1, z1), (x2, y2, z2)))\n",
        "\n",
        "    return new_bricks\n",
        "\n",
        "bricks = parse_bricks(input)\n",
        "while True:\n",
        "  prev = bricks.copy()\n",
        "  bricks = simulate_fall(bricks)\n",
        "  if bricks == prev:\n",
        "    print(\"stopped\")\n",
        "    break"
      ],
      "metadata": {
        "colab": {
          "base_uri": "https://localhost:8080/"
        },
        "id": "vutDlmSG-XUA",
        "outputId": "92c3ead3-c20a-4cf4-f76e-afa7dc604ced"
      },
      "execution_count": null,
      "outputs": [
        {
          "output_type": "stream",
          "name": "stdout",
          "text": [
            "stopped\n"
          ]
        }
      ]
    },
    {
      "cell_type": "code",
      "source": [
        "def count_fallen_bricks(initial_bricks, final_bricks):\n",
        "    fallen_bricks_count = 0\n",
        "    fallen_bricks = []\n",
        "\n",
        "    # Compare the sorted initial and final bricks\n",
        "    for initial, final in zip(initial_bricks, final_bricks):\n",
        "        # Check if the z-coordinate of either end of the brick has decreased\n",
        "        if final[0][2] < initial[0][2] or final[1][2] < initial[1][2]:\n",
        "            fallen_bricks_count += 1\n",
        "            fallen_bricks.append(final)\n",
        "\n",
        "    return fallen_bricks_count, fallen_bricks"
      ],
      "metadata": {
        "id": "m0mf5JD659zW"
      },
      "execution_count": null,
      "outputs": []
    },
    {
      "cell_type": "code",
      "source": [
        "total = 0\n",
        "totalFall = 0\n",
        "for i in range(len(bricks)):\n",
        "  prev = bricks.copy()\n",
        "  prev.pop(i)\n",
        "  new = simulate_fall(prev)\n",
        "  if new == prev:\n",
        "    total += 1\n",
        "  if new != prev:\n",
        "    fallen,fallen_bricks = count_fallen_bricks(prev,new)\n",
        "    totalFall += fallen\n",
        "total, totalFall"
      ],
      "metadata": {
        "colab": {
          "base_uri": "https://localhost:8080/"
        },
        "id": "RwezykZoY7Yu",
        "outputId": "cae883c3-2704-4d9f-b0e7-868f99485292"
      },
      "execution_count": null,
      "outputs": [
        {
          "output_type": "execute_result",
          "data": {
            "text/plain": [
              "(527, 100376)"
            ]
          },
          "metadata": {},
          "execution_count": 80
        }
      ]
    }
  ]
}