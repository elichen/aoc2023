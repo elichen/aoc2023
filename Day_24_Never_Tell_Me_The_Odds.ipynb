{
  "nbformat": 4,
  "nbformat_minor": 0,
  "metadata": {
    "colab": {
      "provenance": [],
      "authorship_tag": "ABX9TyPkbBfNzNb7f5UbtT1CnQDf",
      "include_colab_link": true
    },
    "kernelspec": {
      "name": "python3",
      "display_name": "Python 3"
    },
    "language_info": {
      "name": "python"
    }
  },
  "cells": [
    {
      "cell_type": "markdown",
      "metadata": {
        "id": "view-in-github",
        "colab_type": "text"
      },
      "source": [
        "<a href=\"https://colab.research.google.com/github/elichen/aoc2023/blob/main/Day_24_Never_Tell_Me_The_Odds.ipynb\" target=\"_parent\"><img src=\"https://colab.research.google.com/assets/colab-badge.svg\" alt=\"Open In Colab\"/></a>"
      ]
    },
    {
      "cell_type": "code",
      "execution_count": null,
      "metadata": {
        "id": "Yn4QhUOwvkPD"
      },
      "outputs": [],
      "source": [
        "input = \"\"\"19, 13, 30 @ -2,  1, -2\n",
        "18, 19, 22 @ -1, -1, -2\n",
        "20, 25, 34 @ -2, -2, -4\n",
        "12, 31, 28 @ -1, -2, -1\n",
        "20, 19, 15 @  1, -5, -3\"\"\".split('\\n')"
      ]
    },
    {
      "cell_type": "code",
      "source": [
        "input = [x.rstrip() for x in open(\"input.txt\").readlines()]"
      ],
      "metadata": {
        "id": "1R3JsBo3HDLL"
      },
      "execution_count": null,
      "outputs": []
    },
    {
      "cell_type": "code",
      "source": [
        "# Function to parse each string and convert it into a tuple of tuples\n",
        "def parse_string(s):\n",
        "    parts = s.split('@')\n",
        "    coords = tuple(map(int, parts[0].split(',')))\n",
        "    deltas = tuple(map(int, parts[1].split(',')))\n",
        "    return (coords, deltas)\n",
        "\n",
        "stones = [parse_string(s) for s in input]"
      ],
      "metadata": {
        "id": "fumzGPKOvri0"
      },
      "execution_count": null,
      "outputs": []
    },
    {
      "cell_type": "code",
      "source": [
        "def will_paths_intersect(stone1, stone2, min_range, max_range):\n",
        "    # Extract coordinates and deltas from the stones\n",
        "    (x1, y1, _), (dx1, dy1, _) = stone1\n",
        "    (x2, y2, _), (dx2, dy2, _) = stone2\n",
        "\n",
        "    # Avoid parallel movement scenario\n",
        "    if dx1 == dx2 and dy1 == dy2:\n",
        "        return None\n",
        "\n",
        "    # Solving the system of linear equations for t1 and t2\n",
        "    try:\n",
        "        # Solving for t1 and t2 separately\n",
        "        # x1 + dx1*t1 = x2 + dx2*t2 => t1 = (x2 - x1 + dx2*t2) / dx1\n",
        "        # y1 + dy1*t1 = y2 + dy2*t2 => t1 = (y2 - y1 + dy2*t2) / dy1\n",
        "\n",
        "        # Only proceed if the denominators are non-zero\n",
        "        if dx1 != 0 and dy1 != 0:\n",
        "            # Combine equations to eliminate t1\n",
        "            # (x2 - x1 + dx2*t2) / dx1 = (y2 - y1 + dy2*t2) / dy1\n",
        "            # Solving for t2\n",
        "            t2 = (dx1 * (y2 - y1) - dy1 * (x2 - x1)) / (dy1 * dx2 - dx1 * dy2)\n",
        "\n",
        "            # Calculate corresponding t1\n",
        "            t1 = (x2 - x1 + dx2 * t2) / dx1\n",
        "\n",
        "            # Calculate intersection point\n",
        "            intersect_x = x1 + dx1 * t1\n",
        "            intersect_y = y1 + dy1 * t1\n",
        "\n",
        "            # Check if intersection is within the specified range and time is positive\n",
        "            if min_range <= intersect_x <= max_range and min_range <= intersect_y <= max_range and t1 >= 0 and t2 >= 0:\n",
        "                return intersect_x, intersect_y\n",
        "    except ZeroDivisionError:\n",
        "        # Division by zero indicates parallel movement, no intersection\n",
        "        pass\n",
        "\n",
        "    return None\n",
        "\n",
        "print(will_paths_intersect(stones[0], stones[2], 7, 27))  # Test with Hailstone A and B"
      ],
      "metadata": {
        "colab": {
          "base_uri": "https://localhost:8080/"
        },
        "id": "tYoc3Bu399uH",
        "outputId": "abe404f5-6639-4d52-dc15-6124f87b7d00"
      },
      "execution_count": null,
      "outputs": [
        {
          "output_type": "stream",
          "name": "stdout",
          "text": [
            "None\n"
          ]
        }
      ]
    },
    {
      "cell_type": "code",
      "source": [
        "total = 0\n",
        "low,hi = 200000000000000,400000000000000\n",
        "for i in range(len(stones)):\n",
        "  for j in range(i,len(stones)):\n",
        "    res = will_paths_intersect(stones[i], stones[j], low, hi)\n",
        "    if res:\n",
        "      total += 1\n",
        "total"
      ],
      "metadata": {
        "colab": {
          "base_uri": "https://localhost:8080/"
        },
        "id": "omMn5Tu6GYrN",
        "outputId": "ea6bde00-516a-46cf-9901-98f494a15be5"
      },
      "execution_count": null,
      "outputs": [
        {
          "output_type": "execute_result",
          "data": {
            "text/plain": [
              "12015"
            ]
          },
          "metadata": {},
          "execution_count": 196
        }
      ]
    },
    {
      "cell_type": "code",
      "source": [
        "def will_paths_intersect_3d_single_t(stone1, stone2):\n",
        "    # Extract coordinates and deltas from the stones\n",
        "    (x1, y1, z1), (dx1, dy1, dz1) = stone1\n",
        "    (x2, y2, z2), (dx2, dy2, dz2) = stone2\n",
        "\n",
        "    # Check for parallel movement in all axes to avoid division by zero\n",
        "    if dx1 == dx2 and dy1 == dy2 and dz1 == dz2:\n",
        "        return None\n",
        "\n",
        "    # Solving for t where paths intersect: x1 + dx1*t = x2 + dx2*t, y1 + dy1*t = y2 + dy2*t, z1 + dz1*t = z2 + dz2*t\n",
        "    try:\n",
        "        # Calculate t for each axis\n",
        "        t_x = (x2 - x1) / (dx1 - dx2) if dx1 != dx2 else None\n",
        "        t_y = (y2 - y1) / (dy1 - dy2) if dy1 != dy2 else None\n",
        "        t_z = (z2 - z1) / (dz1 - dz2) if dz1 != dz2 else None\n",
        "\n",
        "        # Check if the calculated t values are the same for all non-None axes\n",
        "        t_values = [t for t in [t_x, t_y, t_z] if t is not None]\n",
        "        if len(set(t_values)) == 1:\n",
        "            t = t_values[0]\n",
        "            # Check if t is positive\n",
        "            if t >= 0:\n",
        "                intersect_x = x1 + dx1 * t\n",
        "                intersect_y = y1 + dy1 * t\n",
        "                intersect_z = z1 + dz1 * t\n",
        "                return t, intersect_x, intersect_y, intersect_z\n",
        "    except ZeroDivisionError:\n",
        "        pass\n",
        "\n",
        "    return None\n",
        "\n",
        "will_paths_intersect_3d_single_t(stones[0], ((24, 13, 10), (-3, 1, 2)))"
      ],
      "metadata": {
        "id": "wsmsiHQzJLcu"
      },
      "execution_count": null,
      "outputs": []
    },
    {
      "cell_type": "code",
      "source": [
        "# pip install z3-solver"
      ],
      "metadata": {
        "id": "ZWT0gCQOborn"
      },
      "execution_count": null,
      "outputs": []
    },
    {
      "cell_type": "code",
      "source": [
        "from z3 import Real, Solver, And\n",
        "\n",
        "def transpose_hailstones(hailstones):\n",
        "    # Choose the first hailstone's position as the reference\n",
        "    ref_pos = hailstones[0][0]\n",
        "\n",
        "    # Transpose all hailstones to the origin based on the reference position\n",
        "    transposed_hailstones = [((hx - ref_pos[0], hy - ref_pos[1], hz - ref_pos[2]), velocity)\n",
        "                             for ((hx, hy, hz), velocity) in hailstones]\n",
        "    return transposed_hailstones, ref_pos\n",
        "\n",
        "def solve_transposed_hailstones(hailstones):\n",
        "    solver = Solver()\n",
        "\n",
        "    # Variables for rock's initial position and velocity (as real numbers)\n",
        "    rx, ry, rz = Real('rx'), Real('ry'), Real('rz')\n",
        "    rvx, rvy, rvz = Real('rvx'), Real('rvy'), Real('rvz')\n",
        "\n",
        "    for i, ((hx, hy, hz), (hvx, hvy, hvz)) in enumerate(hailstones):\n",
        "        t = Real(f't_{i}')\n",
        "\n",
        "        solver.add(rx + rvx * t == hx + hvx * t)\n",
        "        solver.add(ry + rvy * t == hy + hvy * t)\n",
        "        solver.add(rz + rvz * t == hz + hvz * t)\n",
        "        solver.add(t > 0)\n",
        "\n",
        "    print(solver.check())\n",
        "    model = solver.model()\n",
        "    return (model[rx].as_decimal(10), model[ry].as_decimal(10), model[rz].as_decimal(10)), \\\n",
        "            (model[rvx].as_decimal(10), model[rvy].as_decimal(10), model[rvz].as_decimal(10))\n",
        "\n",
        "def solve_hailstone_collision(hailstones):\n",
        "    transposed_hailstones, ref_pos = transpose_hailstones(hailstones)\n",
        "    result = solve_transposed_hailstones(transposed_hailstones)\n",
        "\n",
        "    if result:\n",
        "        position, velocity = result\n",
        "        # Transpose the position back to the original coordinates\n",
        "        transposed_position = (float(position[0]) + ref_pos[0],\n",
        "                               float(position[1]) + ref_pos[1],\n",
        "                               float(position[2]) + ref_pos[2])\n",
        "        return transposed_position, velocity\n",
        "    else:\n",
        "        return None\n",
        "\n",
        "result = solve_hailstone_collision(stones)\n",
        "\n",
        "if result:\n",
        "    position, velocity = result\n",
        "    print(\"Rock Position:\", position, \"Rock Velocity:\", velocity)\n",
        "else:\n",
        "    print(\"No solution found\")"
      ],
      "metadata": {
        "colab": {
          "base_uri": "https://localhost:8080/"
        },
        "id": "-PB9w-XgqsgO",
        "outputId": "1ceb6c06-6ec5-4c45-aa81-8ce8b92ceaa6"
      },
      "execution_count": null,
      "outputs": [
        {
          "output_type": "stream",
          "name": "stdout",
          "text": [
            "sat\n",
            "Rock Position: (472612107765508.0, 270148844447628.0, 273604689965980.0) Rock Velocity: ('-333', '-5', '15')\n"
          ]
        }
      ]
    },
    {
      "cell_type": "code",
      "source": [
        "sum(position)"
      ],
      "metadata": {
        "id": "QjHvmC5PrOYw",
        "outputId": "62a7797c-3251-407e-cacf-c25d0ef3deeb",
        "colab": {
          "base_uri": "https://localhost:8080/"
        }
      },
      "execution_count": null,
      "outputs": [
        {
          "output_type": "execute_result",
          "data": {
            "text/plain": [
              "1016365642179116.0"
            ]
          },
          "metadata": {},
          "execution_count": 200
        }
      ]
    }
  ]
}