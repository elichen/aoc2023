{
  "nbformat": 4,
  "nbformat_minor": 0,
  "metadata": {
    "colab": {
      "provenance": [],
      "authorship_tag": "ABX9TyPldACMaLRczv46PIeY6Lcb",
      "include_colab_link": true
    },
    "kernelspec": {
      "name": "python3",
      "display_name": "Python 3"
    },
    "language_info": {
      "name": "python"
    }
  },
  "cells": [
    {
      "cell_type": "markdown",
      "metadata": {
        "id": "view-in-github",
        "colab_type": "text"
      },
      "source": [
        "<a href=\"https://colab.research.google.com/github/elichen/aoc2023/blob/main/Day_13_Point_of_Incidence.ipynb\" target=\"_parent\"><img src=\"https://colab.research.google.com/assets/colab-badge.svg\" alt=\"Open In Colab\"/></a>"
      ]
    },
    {
      "cell_type": "code",
      "execution_count": null,
      "metadata": {
        "id": "4jgPcnKhu4Uo"
      },
      "outputs": [],
      "source": [
        "input = \"\"\"#.##..##.\n",
        "..#.##.#.\n",
        "##......#\n",
        "##......#\n",
        "..#.##.#.\n",
        "..##..##.\n",
        "#.#.##.#.\n",
        "\n",
        "#...##..#\n",
        "#....#..#\n",
        "..##..###\n",
        "#####.##.\n",
        "#####.##.\n",
        "..##..###\n",
        "#....#..#\"\"\".split('\\n')"
      ]
    },
    {
      "cell_type": "code",
      "source": [
        "input = [x.rstrip() for x in open(\"input.txt\").readlines()]"
      ],
      "metadata": {
        "id": "1Mr-szD01uma"
      },
      "execution_count": null,
      "outputs": []
    },
    {
      "cell_type": "code",
      "source": [
        "import numpy as np\n",
        "\n",
        "def find_reflection(map_2d):\n",
        "    # Convert the map to a numpy array\n",
        "    map_array = np.array([list(row) for row in map_2d])\n",
        "\n",
        "    # Initialize the sum of reflection lines\n",
        "    reflection_sum = 0\n",
        "\n",
        "    # Check for vertical lines of reflection\n",
        "    for col in range(1, map_array.shape[1]):\n",
        "        is_reflection = True\n",
        "        for i in range(col):\n",
        "            if col + i >= map_array.shape[1]:\n",
        "                break\n",
        "            if not np.array_equal(map_array[:, col - i - 1], map_array[:, col + i]):\n",
        "                is_reflection = False\n",
        "                break\n",
        "        if is_reflection:\n",
        "            reflection_sum += col\n",
        "\n",
        "    # Check for horizontal lines of reflection\n",
        "    for row in range(1, map_array.shape[0]):\n",
        "        is_reflection = True\n",
        "        for i in range(row):\n",
        "            if row + i >= map_array.shape[0]:\n",
        "                break\n",
        "            if not np.array_equal(map_array[row - i - 1, :], map_array[row + i, :]):\n",
        "                is_reflection = False\n",
        "                break\n",
        "        if is_reflection:\n",
        "            reflection_sum += 100 * row\n",
        "\n",
        "    return reflection_sum"
      ],
      "metadata": {
        "id": "YpRLHa4Qu-St"
      },
      "execution_count": null,
      "outputs": []
    },
    {
      "cell_type": "code",
      "source": [
        "prev_start = 0\n",
        "line_i = 0\n",
        "total = 0\n",
        "while line_i < len(input):\n",
        "  if len(input[line_i]) == 0 or line_i == len(input)-1:\n",
        "    # print(input[prev_start:line_i])\n",
        "    ret = find_reflection(input[prev_start:line_i])\n",
        "    # print(ret)\n",
        "    total += ret\n",
        "    prev_start = line_i+1\n",
        "  line_i += 1\n",
        "total"
      ],
      "metadata": {
        "colab": {
          "base_uri": "https://localhost:8080/"
        },
        "id": "mJndoV7Z0T3Q",
        "outputId": "0a00f880-1fb9-4702-f210-633c63a228ae"
      },
      "execution_count": null,
      "outputs": [
        {
          "output_type": "execute_result",
          "data": {
            "text/plain": [
              "37381"
            ]
          },
          "metadata": {},
          "execution_count": 86
        }
      ]
    },
    {
      "cell_type": "code",
      "source": [
        "import numpy as np\n",
        "\n",
        "def find_reflection2(map_2d):\n",
        "    # Convert the map to a numpy array\n",
        "    map_array = np.array([list(row) for row in map_2d])\n",
        "\n",
        "    r_set = set()\n",
        "\n",
        "    # Check for vertical lines of reflection\n",
        "    for col in range(1, map_array.shape[1]):\n",
        "        is_reflection = True\n",
        "        for i in range(col):\n",
        "            if col + i >= map_array.shape[1]:\n",
        "                break\n",
        "            if not np.array_equal(map_array[:, col - i - 1], map_array[:, col + i]):\n",
        "                is_reflection = False\n",
        "                break\n",
        "        if is_reflection:\n",
        "            r_set.add(col)\n",
        "\n",
        "    # Check for horizontal lines of reflection\n",
        "    for row in range(1, map_array.shape[0]):\n",
        "        is_reflection = True\n",
        "        for i in range(row):\n",
        "            if row + i >= map_array.shape[0]:\n",
        "                break\n",
        "            if not np.array_equal(map_array[row - i - 1, :], map_array[row + i, :]):\n",
        "                is_reflection = False\n",
        "                break\n",
        "        if is_reflection:\n",
        "            r_set.add(100 * row)\n",
        "\n",
        "    return r_set"
      ],
      "metadata": {
        "id": "ztxe74pe1yVH"
      },
      "execution_count": null,
      "outputs": []
    },
    {
      "cell_type": "code",
      "source": [
        "def find_flip(map):\n",
        "    map = [list(row) for row in map]\n",
        "    s1 = find_reflection2(map)\n",
        "\n",
        "    for row in range(len(map)):\n",
        "        for col in range(len(map[row])):\n",
        "            # Flip the tile\n",
        "            if map[row][col] == '.':\n",
        "                map[row][col] = '#'\n",
        "            else:\n",
        "                map[row][col] = '.'\n",
        "\n",
        "            # Call the reflection finding function\n",
        "            s2 = find_reflection2(map)\n",
        "            if len(s2-s1) > 0:\n",
        "              return (s2-s1).pop()\n",
        "\n",
        "            # Flip the tile back to its original state\n",
        "            if map[row][col] == '.':\n",
        "                map[row][col] = '#'\n",
        "            else:\n",
        "                map[row][col] = '.'\n",
        "\n",
        "\n",
        "prev_start = 0\n",
        "line_i = 0\n",
        "total = 0\n",
        "while line_i < len(input):\n",
        "  if len(input[line_i]) == 0 or line_i == len(input)-1:\n",
        "    total += find_flip(input[prev_start:line_i])\n",
        "    prev_start = line_i+1\n",
        "  line_i += 1\n",
        "total"
      ],
      "metadata": {
        "colab": {
          "base_uri": "https://localhost:8080/"
        },
        "id": "QZ8QAB7Vvdws",
        "outputId": "edfdcd05-5943-42cc-a767-7d34b223963d"
      },
      "execution_count": null,
      "outputs": [
        {
          "output_type": "execute_result",
          "data": {
            "text/plain": [
              "28210"
            ]
          },
          "metadata": {},
          "execution_count": 89
        }
      ]
    }
  ]
}