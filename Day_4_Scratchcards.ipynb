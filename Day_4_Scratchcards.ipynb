{
  "nbformat": 4,
  "nbformat_minor": 0,
  "metadata": {
    "colab": {
      "provenance": [],
      "authorship_tag": "ABX9TyOTNJG/Z/p6JSoRhokvumfA",
      "include_colab_link": true
    },
    "kernelspec": {
      "name": "python3",
      "display_name": "Python 3"
    },
    "language_info": {
      "name": "python"
    }
  },
  "cells": [
    {
      "cell_type": "markdown",
      "metadata": {
        "id": "view-in-github",
        "colab_type": "text"
      },
      "source": [
        "<a href=\"https://colab.research.google.com/github/elichen/aoc2023/blob/main/Day_4_Scratchcards.ipynb\" target=\"_parent\"><img src=\"https://colab.research.google.com/assets/colab-badge.svg\" alt=\"Open In Colab\"/></a>"
      ]
    },
    {
      "cell_type": "code",
      "execution_count": null,
      "metadata": {
        "id": "kZNDxo1o923c"
      },
      "outputs": [],
      "source": [
        "input = \"\"\"Card 1: 41 48 83 86 17 | 83 86  6 31 17  9 48 53\n",
        "Card 2: 13 32 20 16 61 | 61 30 68 82 17 32 24 19\n",
        "Card 3:  1 21 53 59 44 | 69 82 63 72 16 21 14  1\n",
        "Card 4: 41 92 73 84 69 | 59 84 76 51 58  5 54 83\n",
        "Card 5: 87 83 26 28 32 | 88 30 70 12 93 22 82 36\n",
        "Card 6: 31 18 13 56 72 | 74 77 10 23 35 67 36 11\"\"\".split('\\n')\n",
        "input = open(\"input.txt\").readlines()\n",
        "input = [x.rstrip() for x in input]"
      ]
    },
    {
      "cell_type": "code",
      "source": [
        "total = 0\n",
        "for card_string in input:\n",
        "    # Split the string into two parts based on '|'\n",
        "    left_part, right_part = card_string.split('|')\n",
        "\n",
        "    # Extract only the numeric parts\n",
        "    left_numbers = left_part.split(':')[1].strip()\n",
        "    right_numbers = right_part.strip()\n",
        "\n",
        "    # Convert the parts into sets of integers\n",
        "    left_set = set(map(int, left_numbers.split()))\n",
        "    right_set = set(map(int, right_numbers.split()))\n",
        "\n",
        "    # Find the intersection\n",
        "    intersection = left_set & right_set\n",
        "    if len(intersection) > 0:\n",
        "      total += 2 ** (len(intersection)-1)\n",
        "total"
      ],
      "metadata": {
        "colab": {
          "base_uri": "https://localhost:8080/"
        },
        "id": "LNt-W3x599Pl",
        "outputId": "d153241e-6282-47d0-bb60-3556de9dbe19"
      },
      "execution_count": null,
      "outputs": [
        {
          "output_type": "execute_result",
          "data": {
            "text/plain": [
              "20829"
            ]
          },
          "metadata": {},
          "execution_count": 34
        }
      ]
    },
    {
      "cell_type": "code",
      "source": [
        "total = 0\n",
        "copies = [1] * len(input)\n",
        "for i,card_string in enumerate(input):\n",
        "    # Split the string into two parts based on '|'\n",
        "    left_part, right_part = card_string.split('|')\n",
        "\n",
        "    # Extract only the numeric parts\n",
        "    left_numbers = left_part.split(':')[1].strip()\n",
        "    right_numbers = right_part.strip()\n",
        "\n",
        "    # Convert the parts into sets of integers\n",
        "    left_set = set(map(int, left_numbers.split()))\n",
        "    right_set = set(map(int, right_numbers.split()))\n",
        "\n",
        "    # Find the intersection\n",
        "    intersection = left_set & right_set\n",
        "    if len(intersection) > 0:\n",
        "      total += 2 ** (len(intersection)-1)\n",
        "      for j in range(i+1,i+len(intersection)+1):\n",
        "        copies[j] += copies[i]\n",
        "sum(copies)"
      ],
      "metadata": {
        "colab": {
          "base_uri": "https://localhost:8080/"
        },
        "id": "Tdkd_IVW-Dcw",
        "outputId": "fca5fcb4-cb2a-46bb-c592-f97c5214e05e"
      },
      "execution_count": null,
      "outputs": [
        {
          "output_type": "execute_result",
          "data": {
            "text/plain": [
              "12648035"
            ]
          },
          "metadata": {},
          "execution_count": 35
        }
      ]
    },
    {
      "cell_type": "code",
      "source": [],
      "metadata": {
        "id": "NwDWFLndB_r7"
      },
      "execution_count": null,
      "outputs": []
    }
  ]
}