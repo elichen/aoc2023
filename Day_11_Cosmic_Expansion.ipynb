{
  "nbformat": 4,
  "nbformat_minor": 0,
  "metadata": {
    "colab": {
      "provenance": [],
      "authorship_tag": "ABX9TyNrK/5Oa6fNv97wAdFrGj6j",
      "include_colab_link": true
    },
    "kernelspec": {
      "name": "python3",
      "display_name": "Python 3"
    },
    "language_info": {
      "name": "python"
    }
  },
  "cells": [
    {
      "cell_type": "markdown",
      "metadata": {
        "id": "view-in-github",
        "colab_type": "text"
      },
      "source": [
        "<a href=\"https://colab.research.google.com/github/elichen/aoc2023/blob/main/Day_11_Cosmic_Expansion.ipynb\" target=\"_parent\"><img src=\"https://colab.research.google.com/assets/colab-badge.svg\" alt=\"Open In Colab\"/></a>"
      ]
    },
    {
      "cell_type": "code",
      "execution_count": null,
      "metadata": {
        "id": "woT32gr9mT8U"
      },
      "outputs": [],
      "source": [
        "input = \"\"\"...#......\n",
        ".......#..\n",
        "#.........\n",
        "..........\n",
        "......#...\n",
        ".#........\n",
        ".........#\n",
        "..........\n",
        ".......#..\n",
        "#...#.....\"\"\".split('\\n')"
      ]
    },
    {
      "cell_type": "code",
      "source": [
        "input = [x.rstrip() for x in open(\"input.txt\").readlines()]"
      ],
      "metadata": {
        "id": "zl5VnXWPn5C5"
      },
      "execution_count": null,
      "outputs": []
    },
    {
      "cell_type": "code",
      "source": [
        "import copy\n",
        "\n",
        "def expand_map(input):\n",
        "    map_list = copy.deepcopy(input)\n",
        "    row_length = len(map_list[0])\n",
        "    num_rows = len(map_list)\n",
        "\n",
        "    # Check for rows to insert\n",
        "    rows_to_insert = []\n",
        "    for i, row in enumerate(map_list):\n",
        "        if all(char == '.' for char in row):\n",
        "            rows_to_insert.append(i)\n",
        "\n",
        "    # Insert rows\n",
        "    for index in reversed(rows_to_insert):  # Reverse to maintain correct insertion index\n",
        "        map_list.insert(index + 1, '.' * row_length)\n",
        "\n",
        "    # Check for columns to insert\n",
        "    columns_to_insert = []\n",
        "    for j in range(row_length):\n",
        "        if all(map_list[i][j] == '.' for i in range(len(map_list))):\n",
        "            columns_to_insert.append(j)\n",
        "\n",
        "    # Insert columns\n",
        "    for index in reversed(columns_to_insert):  # Reverse to maintain correct insertion index\n",
        "        for i in range(len(map_list)):\n",
        "            map_list[i] = map_list[i][:index + 1] + '.' + map_list[i][index + 1:]\n",
        "\n",
        "    return map_list\n",
        "\n",
        "expanded_input = expand_map(input)"
      ],
      "metadata": {
        "id": "LMgbsKGPnjRM"
      },
      "execution_count": null,
      "outputs": []
    },
    {
      "cell_type": "code",
      "source": [
        "def find_positions(map_list):\n",
        "    positions = []\n",
        "    for x, row in enumerate(map_list):\n",
        "        for y, char in enumerate(row):\n",
        "            if char == '#':\n",
        "                positions.append((x, y))\n",
        "    return positions\n",
        "\n",
        "ps = find_positions(expanded_input)"
      ],
      "metadata": {
        "id": "KNTftVwEmXoG"
      },
      "execution_count": null,
      "outputs": []
    },
    {
      "cell_type": "code",
      "source": [
        "from itertools import combinations\n",
        "\n",
        "def total_manhattan_distance(pairs):\n",
        "    total_distance = 0\n",
        "\n",
        "    # Iterate through all unique pairs of points\n",
        "    for (x1, y1), (x2, y2) in combinations(pairs, 2):\n",
        "        distance = abs(x1 - x2) + abs(y1 - y2)\n",
        "        total_distance += distance\n",
        "\n",
        "    return total_distance\n",
        "\n",
        "total_manhattan_distance(ps)"
      ],
      "metadata": {
        "colab": {
          "base_uri": "https://localhost:8080/"
        },
        "id": "4y9CTjaKmx_d",
        "outputId": "033595f4-a087-4b7b-ada5-66975c23612c"
      },
      "execution_count": null,
      "outputs": [
        {
          "output_type": "execute_result",
          "data": {
            "text/plain": [
              "9681886"
            ]
          },
          "metadata": {},
          "execution_count": 97
        }
      ]
    },
    {
      "cell_type": "code",
      "source": [
        "def find_dot_only_rows_cols(map_list):\n",
        "    row_length = len(map_list[0])\n",
        "    num_rows = len(map_list)\n",
        "\n",
        "    # Find rows with only '.' characters\n",
        "    dot_only_rows = [i for i, row in enumerate(map_list) if all(char == '.' for char in row)]\n",
        "\n",
        "    # Find columns with only '.' characters\n",
        "    dot_only_cols = [j for j in range(row_length) if all(map_list[i][j] == '.' for i in range(num_rows))]\n",
        "\n",
        "    return dot_only_rows, dot_only_cols\n",
        "\n",
        "d_rows, d_cols = find_dot_only_rows_cols(input)"
      ],
      "metadata": {
        "id": "4Uo2uIldnx_Z"
      },
      "execution_count": null,
      "outputs": []
    },
    {
      "cell_type": "code",
      "source": [
        "from itertools import combinations\n",
        "\n",
        "def total_manhattan_distance_with_dots(pairs, dot_only_rows, dot_only_cols, expansion):\n",
        "    total_distance = 0\n",
        "\n",
        "    for (x1, y1), (x2, y2) in combinations(pairs, 2):\n",
        "        # Calculate basic Manhattan distance\n",
        "        distance = abs(x1 - x2) + abs(y1 - y2)\n",
        "\n",
        "        for row in dot_only_rows:\n",
        "            if min(x1, x2) < row < max(x1, x2):\n",
        "                distance += expansion-1\n",
        "\n",
        "        for col in dot_only_cols:\n",
        "            if min(y1, y2) < col < max(y1, y2):\n",
        "                distance += expansion-1\n",
        "\n",
        "        total_distance += distance\n",
        "\n",
        "    return total_distance\n",
        "\n",
        "total_manhattan_distance_with_dots(find_positions(input), d_rows, d_cols, 1000000)"
      ],
      "metadata": {
        "colab": {
          "base_uri": "https://localhost:8080/"
        },
        "id": "86BOgfVoWpf5",
        "outputId": "34a004c8-17d9-41c0-fb67-e072ffb610e9"
      },
      "execution_count": null,
      "outputs": [
        {
          "output_type": "execute_result",
          "data": {
            "text/plain": [
              "791134099634"
            ]
          },
          "metadata": {},
          "execution_count": 102
        }
      ]
    },
    {
      "cell_type": "code",
      "source": [],
      "metadata": {
        "id": "OsYV_sTrXk2T"
      },
      "execution_count": null,
      "outputs": []
    }
  ]
}