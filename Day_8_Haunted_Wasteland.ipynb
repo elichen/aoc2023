{
  "nbformat": 4,
  "nbformat_minor": 0,
  "metadata": {
    "colab": {
      "provenance": [],
      "authorship_tag": "ABX9TyOLuBSSAunaAgfv5nx/4jIZ",
      "include_colab_link": true
    },
    "kernelspec": {
      "name": "python3",
      "display_name": "Python 3"
    },
    "language_info": {
      "name": "python"
    }
  },
  "cells": [
    {
      "cell_type": "markdown",
      "metadata": {
        "id": "view-in-github",
        "colab_type": "text"
      },
      "source": [
        "<a href=\"https://colab.research.google.com/github/elichen/aoc2023/blob/main/Day_8_Haunted_Wasteland.ipynb\" target=\"_parent\"><img src=\"https://colab.research.google.com/assets/colab-badge.svg\" alt=\"Open In Colab\"/></a>"
      ]
    },
    {
      "cell_type": "code",
      "execution_count": null,
      "metadata": {
        "id": "QhjJRRYfb_aC"
      },
      "outputs": [],
      "source": [
        "input = \"\"\"LR\n",
        "\n",
        "11A = (11B, XXX)\n",
        "11B = (XXX, 11Z)\n",
        "11Z = (11B, XXX)\n",
        "22A = (22B, XXX)\n",
        "22B = (22C, 22C)\n",
        "22C = (22Z, 22Z)\n",
        "22Z = (22B, 22B)\n",
        "XXX = (XXX, XXX)\"\"\".split('\\n')\n",
        "input = \"\"\"LLR\n",
        "\n",
        "AAA = (BBB, BBB)\n",
        "BBB = (AAA, ZZZ)\n",
        "ZZZ = (ZZZ, ZZZ)\n",
        "\"\"\".split('\\n')"
      ]
    },
    {
      "cell_type": "code",
      "source": [
        "input = [x.rstrip() for x in open(\"input.txt\").readlines()]"
      ],
      "metadata": {
        "id": "r2SyNQr5dWwe"
      },
      "execution_count": null,
      "outputs": []
    },
    {
      "cell_type": "code",
      "source": [
        "inst = input[0]"
      ],
      "metadata": {
        "id": "o_u1stKtcB-m"
      },
      "execution_count": null,
      "outputs": []
    },
    {
      "cell_type": "code",
      "source": [
        "m = {}\n",
        "for line in input:\n",
        "    if '=' in line:\n",
        "        key, value = line.split('=')\n",
        "        key = key.strip()\n",
        "        value = value.strip().strip('()')\n",
        "        values = tuple(value.split(', '))\n",
        "        m[key] = values"
      ],
      "metadata": {
        "id": "tgr_V6u4cYVF"
      },
      "execution_count": null,
      "outputs": []
    },
    {
      "cell_type": "code",
      "source": [
        "curr = \"AAA\"\n",
        "steps = 0\n",
        "inst_i = 0\n",
        "while curr != \"ZZZ\":\n",
        "  if inst[inst_i] == \"L\":\n",
        "    curr = m[curr][0]\n",
        "  else:\n",
        "    curr = m[curr][1]\n",
        "  inst_i = (inst_i + 1)%len(inst)\n",
        "  steps += 1\n",
        "steps"
      ],
      "metadata": {
        "colab": {
          "base_uri": "https://localhost:8080/"
        },
        "id": "Fn59yYLWcjj7",
        "outputId": "5d2d43fe-49d3-4c2a-83b2-48221e780815"
      },
      "execution_count": null,
      "outputs": [
        {
          "output_type": "execute_result",
          "data": {
            "text/plain": [
              "13771"
            ]
          },
          "metadata": {},
          "execution_count": 71
        }
      ]
    },
    {
      "cell_type": "code",
      "source": [
        "currs = [x for x in m.keys() if x[-1] == \"A\"]\n",
        "loops = []\n",
        "for curr in currs:\n",
        "  inst_i = 0\n",
        "  steps = 0\n",
        "  while True:\n",
        "    if curr[-1] == \"Z\":\n",
        "      loops.append(steps)\n",
        "      break\n",
        "    if inst[inst_i] == \"L\":\n",
        "      curr = m[curr][0]\n",
        "    else:\n",
        "      curr = m[curr][1]\n",
        "    inst_i = (inst_i + 1)%len(inst)\n",
        "    steps += 1\n",
        "loops"
      ],
      "metadata": {
        "colab": {
          "base_uri": "https://localhost:8080/"
        },
        "id": "wrizHkvTdRt6",
        "outputId": "e6f36a62-d32d-405a-c918-8a585c410e2f"
      },
      "execution_count": null,
      "outputs": [
        {
          "output_type": "execute_result",
          "data": {
            "text/plain": [
              "[19631, 17287, 12599, 23147, 13771, 20803]"
            ]
          },
          "metadata": {},
          "execution_count": 72
        }
      ]
    },
    {
      "cell_type": "code",
      "source": [
        "from math import gcd\n",
        "from functools import reduce\n",
        "\n",
        "def lcm(numbers):\n",
        "    \"\"\"Calculate the least common multiple of a list of numbers.\"\"\"\n",
        "    def lcm_of_two(a, b):\n",
        "        \"\"\"Calculate the LCM of two numbers.\"\"\"\n",
        "        return a * b // gcd(a, b)\n",
        "\n",
        "    return reduce(lcm_of_two, numbers)\n",
        "\n",
        "lcm(loops)"
      ],
      "metadata": {
        "colab": {
          "base_uri": "https://localhost:8080/"
        },
        "id": "P8nVhIoixEZT",
        "outputId": "dd43316d-1b2e-4e71-bc85-7c4d0d8fdcab"
      },
      "execution_count": null,
      "outputs": [
        {
          "output_type": "execute_result",
          "data": {
            "text/plain": [
              "13129439557681"
            ]
          },
          "metadata": {},
          "execution_count": 73
        }
      ]
    },
    {
      "cell_type": "code",
      "source": [],
      "metadata": {
        "id": "zWz6adJ2W9Xi"
      },
      "execution_count": null,
      "outputs": []
    }
  ]
}