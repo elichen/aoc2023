{
  "nbformat": 4,
  "nbformat_minor": 0,
  "metadata": {
    "colab": {
      "provenance": [],
      "authorship_tag": "ABX9TyNTK14uYElQkop26abltqV8",
      "include_colab_link": true
    },
    "kernelspec": {
      "name": "python3",
      "display_name": "Python 3"
    },
    "language_info": {
      "name": "python"
    }
  },
  "cells": [
    {
      "cell_type": "markdown",
      "metadata": {
        "id": "view-in-github",
        "colab_type": "text"
      },
      "source": [
        "<a href=\"https://colab.research.google.com/github/elichen/aoc2023/blob/main/Day_23_A_Long_Walk.ipynb\" target=\"_parent\"><img src=\"https://colab.research.google.com/assets/colab-badge.svg\" alt=\"Open In Colab\"/></a>"
      ]
    },
    {
      "cell_type": "code",
      "execution_count": null,
      "metadata": {
        "id": "Vh231NaeBD9w"
      },
      "outputs": [],
      "source": [
        "input = \"\"\"#.#####################\n",
        "#.......#########...###\n",
        "#######.#########.#.###\n",
        "###.....#.>.>.###.#.###\n",
        "###v#####.#v#.###.#.###\n",
        "###.>...#.#.#.....#...#\n",
        "###v###.#.#.#########.#\n",
        "###...#.#.#.......#...#\n",
        "#####.#.#.#######.#.###\n",
        "#.....#.#.#.......#...#\n",
        "#.#####.#.#.#########v#\n",
        "#.#...#...#...###...>.#\n",
        "#.#.#v#######v###.###v#\n",
        "#...#.>.#...>.>.#.###.#\n",
        "#####v#.#.###v#.#.###.#\n",
        "#.....#...#...#.#.#...#\n",
        "#.#########.###.#.#.###\n",
        "#...###...#...#...#.###\n",
        "###.###.#.###v#####v###\n",
        "#...#...#.#.>.>.#.>.###\n",
        "#.###.###.#.###.#.#v###\n",
        "#.....###...###...#...#\n",
        "#####################.#\"\"\".split('\\n')"
      ]
    },
    {
      "cell_type": "code",
      "source": [
        "input = [x.rstrip() for x in open(\"input.txt\").readlines()]"
      ],
      "metadata": {
        "id": "s6aZ793jZnaA"
      },
      "execution_count": null,
      "outputs": []
    },
    {
      "cell_type": "code",
      "source": [
        "from collections import deque\n",
        "\n",
        "def find_paths(map):\n",
        "    rows, cols = len(map), len(map[0])\n",
        "    directions = {'^': (-1, 0), '>': (0, 1), 'v': (1, 0), '<': (0, -1)}\n",
        "\n",
        "    def is_valid(x, y, prev_dir):\n",
        "        if 0 <= x < rows and 0 <= y < cols:\n",
        "            if map[x][y] == '.' or map[x][y] in directions:\n",
        "                return prev_dir is None or map[x][y] == '.' or directions[map[x][y]] == prev_dir\n",
        "        return False\n",
        "\n",
        "    def bfs():\n",
        "        queue = deque([(0, i, {(0, i)}) for i in range(cols) if map[0][i] == '.'])\n",
        "        paths = []\n",
        "\n",
        "        while queue:\n",
        "            x, y, visited = queue.popleft()\n",
        "            if x == rows - 1:\n",
        "                paths.append(visited)\n",
        "                continue\n",
        "\n",
        "            for dx, dy in directions.values():\n",
        "                nx, ny = x + dx, y + dy\n",
        "                if is_valid(nx, ny, (dx, dy)) and (nx, ny) not in visited:\n",
        "                    new_visited = set(visited)\n",
        "                    new_visited.add((nx, ny))\n",
        "                    queue.append((nx, ny, new_visited))\n",
        "\n",
        "        return paths\n",
        "\n",
        "    return bfs()\n",
        "\n",
        "# paths = find_paths(input)\n",
        "# max([len(x)-1 for x in paths])"
      ],
      "metadata": {
        "id": "kNyeogFLBH-k"
      },
      "execution_count": null,
      "outputs": []
    },
    {
      "cell_type": "code",
      "source": [
        "def plot_path_on_map(map_data, path):\n",
        "    # Copy the original map\n",
        "    new_map = [list(row) for row in map_data]\n",
        "\n",
        "    # Mark the path on the new map\n",
        "    for x, y in path:\n",
        "        new_map[x][y] = 'X'\n",
        "\n",
        "    # Convert each row back to a string\n",
        "    new_map = [''.join(row) for row in new_map]\n",
        "    print(\"---\")\n",
        "    print('\\n'.join(new_map))"
      ],
      "metadata": {
        "id": "HhGLJW58VEG6"
      },
      "execution_count": null,
      "outputs": []
    },
    {
      "cell_type": "code",
      "source": [
        "from functools import lru_cache\n",
        "\n",
        "def longest_path_set(grid):\n",
        "    rows, cols = len(grid), len(grid[0])\n",
        "    start = (0, grid[0].index('.'))\n",
        "    end_row = rows - 1\n",
        "\n",
        "    # Convert the grid into a more manageable format\n",
        "    grid = [list(row) for row in grid]\n",
        "\n",
        "    @lru_cache(maxsize=10**4)\n",
        "    def dfs(node, visited):\n",
        "        visited = set(visited)\n",
        "\n",
        "        if node[0] == end_row:\n",
        "            return len(visited)  # Reached the end row\n",
        "\n",
        "        x, y = node\n",
        "        visited.add(node)\n",
        "        while True:\n",
        "            neighbors = [(x + dx, y + dy) for dx, dy in [(0, 1), (1, 0), (0, -1), (-1, 0)]]\n",
        "            valid_neighbors = [(nx, ny) for nx, ny in neighbors if 0 <= nx < rows and 0 <= ny < cols and grid[nx][ny] != '#' and (nx, ny) not in visited]\n",
        "\n",
        "            if len(valid_neighbors) == 1:\n",
        "                # Only one path, continue along this path\n",
        "                node = valid_neighbors[0]\n",
        "                visited.add(node)\n",
        "                x, y = node\n",
        "            else:\n",
        "                break\n",
        "\n",
        "        if node[0] == end_row:\n",
        "            return len(visited)\n",
        "        if len(valid_neighbors) == 0:\n",
        "            return 0\n",
        "\n",
        "        # Multiple paths, explore each and choose the one with the longest path\n",
        "        longest_len = 0\n",
        "        for neighbor in valid_neighbors:\n",
        "            current_path = dfs(neighbor, frozenset(visited))\n",
        "            if current_path > longest_len:\n",
        "                longest_len = current_path\n",
        "\n",
        "        return longest_len\n",
        "\n",
        "    return dfs(start, frozenset())\n",
        "\n",
        "# Test the function with the provided grid\n",
        "longest_path_set(input)"
      ],
      "metadata": {
        "id": "Oiih7t99hrGK",
        "colab": {
          "base_uri": "https://localhost:8080/"
        },
        "outputId": "5837d08d-2c15-426d-c765-b3f251f1b95d"
      },
      "execution_count": null,
      "outputs": [
        {
          "output_type": "execute_result",
          "data": {
            "text/plain": [
              "155"
            ]
          },
          "metadata": {},
          "execution_count": 100
        }
      ]
    },
    {
      "cell_type": "code",
      "source": [
        "from collections import deque\n",
        "\n",
        "def parse_map(map_str):\n",
        "    # Parse the map string into a 2D grid\n",
        "    return [list(row) for row in map_str]\n",
        "\n",
        "def is_path(cell):\n",
        "    # Determine if a cell is a path (not a wall)\n",
        "    return cell != '#'\n",
        "\n",
        "def get_neighbors(x, y, grid):\n",
        "    # Get valid neighboring cells (N, S, E, W)\n",
        "    neighbors = []\n",
        "    for dx, dy in [(-1, 0), (1, 0), (0, -1), (0, 1)]:\n",
        "        nx, ny = x + dx, y + dy\n",
        "        if 0 <= nx < len(grid) and 0 <= ny < len(grid[0]) and is_path(grid[nx][ny]):\n",
        "            neighbors.append((nx, ny))\n",
        "    return neighbors\n",
        "\n",
        "def bfs_explore_corrected(map_str):\n",
        "    grid = parse_map(map_str)\n",
        "    rows, cols = len(grid), len(grid[0])\n",
        "\n",
        "    # Find the starting and ending points\n",
        "    start = [(0, y) for y in range(cols) if is_path(grid[0][y])][0]\n",
        "    end = [(rows - 1, y) for y in range(cols) if is_path(grid[rows - 1][y])][0]\n",
        "\n",
        "    # BFS exploration\n",
        "    queue = deque([(start,start,0,set([start]))])\n",
        "    graph = {start:{}}\n",
        "\n",
        "    while queue:\n",
        "        (x,y),prev,dist,visited = queue.popleft()\n",
        "\n",
        "        neighbors = get_neighbors(x, y, grid)\n",
        "        if len(neighbors) > 2 or (x,y) == end:\n",
        "            if (x, y) not in graph: graph[(x, y)] = {}\n",
        "            graph[prev][(x,y)] = dist\n",
        "            graph[(x,y)][prev] = dist\n",
        "            visited = set([(x,y)])\n",
        "            prev = (x,y)\n",
        "            dist = 0\n",
        "\n",
        "        for nx, ny in neighbors:\n",
        "            if (nx, ny) != prev and (nx, ny) not in visited and ((nx,ny) not in graph or prev not in graph[(nx,ny)]):\n",
        "                queue.append(((nx, ny), prev, dist+1, visited | {(nx,ny)}))\n",
        "\n",
        "    return start, end, graph\n",
        "\n",
        "# Test the corrected function\n",
        "start, end, graph = bfs_explore_corrected(input)"
      ],
      "metadata": {
        "id": "V-T5tkHr2Q52"
      },
      "execution_count": null,
      "outputs": []
    },
    {
      "cell_type": "code",
      "source": [
        "def dfs_find_longest_path_length_corrected(graph, current_node, end_node, visited, current_distance):\n",
        "    # Mark the current node as visited\n",
        "    visited.add(current_node)\n",
        "\n",
        "    # If we reach the end node, return the current distance\n",
        "    if current_node == end_node:\n",
        "        visited.remove(current_node)  # Backtrack before returning\n",
        "        return current_distance\n",
        "\n",
        "    # Initialize the longest path length as the current distance\n",
        "    longest_path_length = current_distance\n",
        "\n",
        "    # Explore neighbors\n",
        "    for neighbor, distance in graph.get(current_node, {}).items():\n",
        "        if neighbor not in visited:\n",
        "            path_length = dfs_find_longest_path_length_corrected(graph, neighbor, end_node, visited.copy(), current_distance + distance)\n",
        "            longest_path_length = max(longest_path_length, path_length)\n",
        "\n",
        "    # Backtrack\n",
        "    visited.remove(current_node)\n",
        "\n",
        "    return longest_path_length\n",
        "\n",
        "# Find the longest path length with corrected function\n",
        "dfs_find_longest_path_length_corrected(graph, start, end, set(), 0)"
      ],
      "metadata": {
        "colab": {
          "base_uri": "https://localhost:8080/"
        },
        "id": "AUu-XZDaSxlr",
        "outputId": "fae7d426-9e6a-4ad0-d1da-7ce74f882fc4"
      },
      "execution_count": null,
      "outputs": [
        {
          "output_type": "execute_result",
          "data": {
            "text/plain": [
              "6534"
            ]
          },
          "metadata": {},
          "execution_count": 106
        }
      ]
    }
  ]
}