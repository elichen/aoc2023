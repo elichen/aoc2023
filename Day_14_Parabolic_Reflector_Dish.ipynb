{
  "nbformat": 4,
  "nbformat_minor": 0,
  "metadata": {
    "colab": {
      "provenance": [],
      "authorship_tag": "ABX9TyN+kJ06AqwW8x/IKQHUwsI8",
      "include_colab_link": true
    },
    "kernelspec": {
      "name": "python3",
      "display_name": "Python 3"
    },
    "language_info": {
      "name": "python"
    }
  },
  "cells": [
    {
      "cell_type": "markdown",
      "metadata": {
        "id": "view-in-github",
        "colab_type": "text"
      },
      "source": [
        "<a href=\"https://colab.research.google.com/github/elichen/aoc2023/blob/main/Day_14_Parabolic_Reflector_Dish.ipynb\" target=\"_parent\"><img src=\"https://colab.research.google.com/assets/colab-badge.svg\" alt=\"Open In Colab\"/></a>"
      ]
    },
    {
      "cell_type": "code",
      "execution_count": null,
      "metadata": {
        "id": "EexzzkFN3Zol"
      },
      "outputs": [],
      "source": [
        "input = \"\"\"O....#....\n",
        "O.OO#....#\n",
        ".....##...\n",
        "OO.#O....O\n",
        ".O.....O#.\n",
        "O.#..O.#.#\n",
        "..O..#O..O\n",
        ".......O..\n",
        "#....###..\n",
        "#OO..#....\"\"\".split('\\n')"
      ]
    },
    {
      "cell_type": "code",
      "source": [
        "input = [x.rstrip() for x in open(\"input.txt\").readlines()]"
      ],
      "metadata": {
        "id": "O4fwzqev5hy2"
      },
      "execution_count": null,
      "outputs": []
    },
    {
      "cell_type": "code",
      "source": [
        "def roll_up(map_2d):\n",
        "    # Convert the map into a list of lists for easy manipulation\n",
        "    grid = [list(row) for row in map_2d]\n",
        "\n",
        "    # Dimensions of the grid\n",
        "    rows, cols = len(grid), len(grid[0])\n",
        "\n",
        "    # Loop through each column\n",
        "    for col in range(cols):\n",
        "        # Find the lowest empty position in the current column starting from top\n",
        "        empty_row = None\n",
        "        for row in range(rows):\n",
        "            if grid[row][col] == '.' and empty_row is None:\n",
        "                empty_row = row\n",
        "            elif grid[row][col] == 'O':\n",
        "                # Move the rock to the lowest empty position if available and update the empty position\n",
        "                if empty_row is not None:\n",
        "                    grid[empty_row][col], grid[row][col] = 'O', '.'\n",
        "                    empty_row += 1\n",
        "            elif grid[row][col] == '#':\n",
        "                # Reset the lowest empty position after hitting a barrier\n",
        "                empty_row = None\n",
        "\n",
        "    # Convert the grid back to the original map format\n",
        "    return [''.join(row) for row in grid]\n",
        "\n",
        "# Test the fixed function with the provided map\n",
        "m = roll_up(input)"
      ],
      "metadata": {
        "id": "jcDijCtF4jSj"
      },
      "execution_count": null,
      "outputs": []
    },
    {
      "cell_type": "code",
      "source": [
        "def calculate_load(map_2d):\n",
        "    # Dimensions of the grid\n",
        "    rows = len(map_2d)\n",
        "\n",
        "    # Calculate the load\n",
        "    total_load = 0\n",
        "    for row in range(rows):\n",
        "        for cell in map_2d[row]:\n",
        "            if cell == 'O':\n",
        "                # Load is the number of rows from the rock to the south edge, including the current row\n",
        "                total_load += (rows - row)\n",
        "\n",
        "    return total_load\n",
        "\n",
        "# Test the function with the rolled-up map\n",
        "load = calculate_load(m)\n",
        "load"
      ],
      "metadata": {
        "colab": {
          "base_uri": "https://localhost:8080/"
        },
        "id": "JX8IKScH5aFG",
        "outputId": "0738132a-fecf-4b4a-c85d-6a1ea3a32de2"
      },
      "execution_count": null,
      "outputs": [
        {
          "output_type": "execute_result",
          "data": {
            "text/plain": [
              "110128"
            ]
          },
          "metadata": {},
          "execution_count": 238
        }
      ]
    },
    {
      "cell_type": "code",
      "source": [
        "import numpy as np\n",
        "\n",
        "def roll_direction(grid, direction):\n",
        "    # Function to roll rocks in a specific direction\n",
        "    def roll(grid, reverse=False):\n",
        "        rows, cols = grid.shape\n",
        "        for col in range(cols):\n",
        "            # Find the lowest/highest empty position in the current column\n",
        "            empty_pos = None\n",
        "            range_start, range_end, step = (rows - 1, -1, -1) if reverse else (0, rows, 1)\n",
        "            for row in range(range_start, range_end, step):\n",
        "                if grid[row][col] == '.' and empty_pos is None:\n",
        "                    empty_pos = row\n",
        "                elif grid[row][col] == 'O':\n",
        "                    # Move the rock to the lowest/highest empty position if available\n",
        "                    if empty_pos is not None:\n",
        "                        grid[empty_pos][col], grid[row][col] = 'O', '.'\n",
        "                        empty_pos += step\n",
        "                elif grid[row][col] == '#':\n",
        "                    # Reset the lowest/highest empty position after hitting a barrier\n",
        "                    empty_pos = None\n",
        "\n",
        "    # Rotate the grid based on the direction and apply the roll function\n",
        "    if direction == 'N':\n",
        "        roll(grid)\n",
        "    elif direction == 'W':\n",
        "        grid = np.rot90(grid, -1)\n",
        "        roll(grid)\n",
        "        grid = np.rot90(grid)\n",
        "    elif direction == 'S':\n",
        "        roll(grid, reverse=True)\n",
        "    elif direction == 'E':\n",
        "        grid = np.rot90(grid)\n",
        "        roll(grid)\n",
        "        grid = np.rot90(grid, -1)\n",
        "\n",
        "    return grid"
      ],
      "metadata": {
        "id": "m0P8ITxF7PGj"
      },
      "execution_count": null,
      "outputs": []
    },
    {
      "cell_type": "code",
      "source": [
        "def spin(map):\n",
        "  m = map\n",
        "  m = roll_direction(m, 'N')\n",
        "  m = roll_direction(m, 'W')\n",
        "  m = roll_direction(m, 'S')\n",
        "  m = roll_direction(m, 'E')\n",
        "  return m\n",
        "\n",
        "m = np.array([list(row) for row in input])\n",
        "seen = {hash(m.tobytes()):0}\n",
        "i = 0\n",
        "modulo = 0\n",
        "while True:\n",
        "  i += 1\n",
        "  m = spin(m)\n",
        "  h = hash(m.tobytes())\n",
        "  # print(i, h)\n",
        "  if h in seen:\n",
        "    modulo = i-seen[h]\n",
        "    break\n",
        "  seen[h] = i\n",
        "seen[h],modulo"
      ],
      "metadata": {
        "colab": {
          "base_uri": "https://localhost:8080/"
        },
        "id": "VouP4o3c8rPS",
        "outputId": "19107b58-b320-4f89-a997-5f8a58a640e0"
      },
      "execution_count": null,
      "outputs": [
        {
          "output_type": "execute_result",
          "data": {
            "text/plain": [
              "(177, 14)"
            ]
          },
          "metadata": {},
          "execution_count": 240
        }
      ]
    },
    {
      "cell_type": "code",
      "source": [
        "seen[h]+((1000000000-seen[h])%modulo)"
      ],
      "metadata": {
        "colab": {
          "base_uri": "https://localhost:8080/"
        },
        "id": "t2LlX3zNRSEe",
        "outputId": "1ed4e1d5-bdce-4586-e03d-6baa4642a8d5"
      },
      "execution_count": null,
      "outputs": [
        {
          "output_type": "execute_result",
          "data": {
            "text/plain": [
              "188"
            ]
          },
          "metadata": {},
          "execution_count": 241
        }
      ]
    },
    {
      "cell_type": "code",
      "source": [
        "m = np.array([list(row) for row in input])\n",
        "for _ in range(seen[h]+((1000000000-seen[h])%modulo)):\n",
        "  m = spin(m)\n",
        "calculate_load(m)"
      ],
      "metadata": {
        "colab": {
          "base_uri": "https://localhost:8080/"
        },
        "id": "dkpBVK42NRH7",
        "outputId": "b30c5d8d-202a-4ba4-da71-8d7b64ff3ab1"
      },
      "execution_count": null,
      "outputs": [
        {
          "output_type": "execute_result",
          "data": {
            "text/plain": [
              "103861"
            ]
          },
          "metadata": {},
          "execution_count": 242
        }
      ]
    }
  ]
}