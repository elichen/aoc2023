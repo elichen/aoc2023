{
  "nbformat": 4,
  "nbformat_minor": 0,
  "metadata": {
    "colab": {
      "provenance": [],
      "authorship_tag": "ABX9TyOJ1IrEv7y3e6a0lk0F4w1E",
      "include_colab_link": true
    },
    "kernelspec": {
      "name": "python3",
      "display_name": "Python 3"
    },
    "language_info": {
      "name": "python"
    }
  },
  "cells": [
    {
      "cell_type": "markdown",
      "metadata": {
        "id": "view-in-github",
        "colab_type": "text"
      },
      "source": [
        "<a href=\"https://colab.research.google.com/github/elichen/aoc2023/blob/main/Day_9_Mirage_Maintenance.ipynb\" target=\"_parent\"><img src=\"https://colab.research.google.com/assets/colab-badge.svg\" alt=\"Open In Colab\"/></a>"
      ]
    },
    {
      "cell_type": "code",
      "execution_count": null,
      "metadata": {
        "id": "a7rpIkvoq1h5"
      },
      "outputs": [],
      "source": [
        "input = \"\"\"0 3 6 9 12 15\n",
        "1 3 6 10 15 21\n",
        "10 13 16 21 30 45\"\"\".split('\\n')"
      ]
    },
    {
      "cell_type": "code",
      "source": [
        "input = [x.rstrip() for x in open(\"input.txt\").readlines()]"
      ],
      "metadata": {
        "id": "aQphkrTPwi0A"
      },
      "execution_count": null,
      "outputs": []
    },
    {
      "cell_type": "code",
      "source": [
        "def next(l):\n",
        "  diffs = [j - i for i, j in zip(l, l[1:])]\n",
        "  if all(x == diffs[0] for x in diffs):\n",
        "    return diffs[0] + l[-1]\n",
        "  else:\n",
        "    return next(diffs) + l[-1]\n",
        "\n",
        "total = 0\n",
        "for line in input:\n",
        "  l = [int(x) for x in line.split()]\n",
        "  total += next(l)\n",
        "total"
      ],
      "metadata": {
        "colab": {
          "base_uri": "https://localhost:8080/"
        },
        "id": "ttJ76Allr3bK",
        "outputId": "3f905d3d-1695-4e86-e127-6657d4630b6e"
      },
      "execution_count": null,
      "outputs": [
        {
          "output_type": "execute_result",
          "data": {
            "text/plain": [
              "1955513104"
            ]
          },
          "metadata": {},
          "execution_count": 12
        }
      ]
    },
    {
      "cell_type": "code",
      "source": [
        "def prev(l):\n",
        "  diffs = [j - i for i, j in zip(l, l[1:])]\n",
        "  if all(x == diffs[0] for x in diffs):\n",
        "    return l[0] - diffs[0]\n",
        "  else:\n",
        "    return l[0] - prev(diffs)\n",
        "\n",
        "total = 0\n",
        "for line in input:\n",
        "  l = [int(x) for x in line.split()]\n",
        "  total += prev(l)\n",
        "total"
      ],
      "metadata": {
        "colab": {
          "base_uri": "https://localhost:8080/"
        },
        "id": "i4NN3c5DwmOd",
        "outputId": "a803b338-415d-4f44-d70e-9d45f4fa14be"
      },
      "execution_count": null,
      "outputs": [
        {
          "output_type": "execute_result",
          "data": {
            "text/plain": [
              "1131"
            ]
          },
          "metadata": {},
          "execution_count": 22
        }
      ]
    }
  ]
}