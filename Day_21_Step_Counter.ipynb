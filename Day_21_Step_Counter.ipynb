{
  "nbformat": 4,
  "nbformat_minor": 0,
  "metadata": {
    "colab": {
      "provenance": [],
      "authorship_tag": "ABX9TyOT1abp8QH89vn+yD+Dfqsf",
      "include_colab_link": true
    },
    "kernelspec": {
      "name": "python3",
      "display_name": "Python 3"
    },
    "language_info": {
      "name": "python"
    }
  },
  "cells": [
    {
      "cell_type": "markdown",
      "metadata": {
        "id": "view-in-github",
        "colab_type": "text"
      },
      "source": [
        "<a href=\"https://colab.research.google.com/github/elichen/aoc2023/blob/main/Day_21_Step_Counter.ipynb\" target=\"_parent\"><img src=\"https://colab.research.google.com/assets/colab-badge.svg\" alt=\"Open In Colab\"/></a>"
      ]
    },
    {
      "cell_type": "code",
      "execution_count": null,
      "metadata": {
        "id": "JPqdA-BCbEGE"
      },
      "outputs": [],
      "source": [
        "input = \"\"\"...........\n",
        ".....###.#.\n",
        ".###.##..#.\n",
        "..#.#...#..\n",
        "....#.#....\n",
        ".##..S####.\n",
        ".##..#...#.\n",
        ".......##..\n",
        ".##.#.####.\n",
        ".##..##.##.\n",
        "...........\"\"\".split('\\n')"
      ]
    },
    {
      "cell_type": "code",
      "source": [
        "input = [x.rstrip() for x in open(\"input.txt\").readlines()]"
      ],
      "metadata": {
        "id": "uuzDpwS4eSuH"
      },
      "execution_count": null,
      "outputs": []
    },
    {
      "cell_type": "code",
      "source": [
        "import numpy as np\n",
        "np.set_printoptions(threshold=np.inf)\n",
        "np.set_printoptions(linewidth=np.inf)\n",
        "\n",
        "def convert_map_to_array(map_str):\n",
        "    return np.array([[0 if char == '.' else 1 if char == '#' else 2 for char in row] for row in map_str])\n",
        "\n",
        "# Convert and test\n",
        "m_orig = convert_map_to_array(input)"
      ],
      "metadata": {
        "id": "635b7-WFbG7t"
      },
      "execution_count": null,
      "outputs": []
    },
    {
      "cell_type": "code",
      "source": [
        "def update_map(map_array):\n",
        "    # Make a copy of the array, replacing all 2's with 0's\n",
        "    updated_map = np.where(map_array == 2, 0, map_array)\n",
        "\n",
        "    # Directions for moving north, south, east, west\n",
        "    directions = [(0, 1), (0, -1), (1, 0), (-1, 0)]\n",
        "\n",
        "    # Iterate through each cell in the array\n",
        "    for i in range(map_array.shape[0]):\n",
        "        for j in range(map_array.shape[1]):\n",
        "            # Check if the current cell is marked as 2\n",
        "            if map_array[i, j] == 2:\n",
        "                # Check each direction\n",
        "                for di, dj in directions:\n",
        "                    new_i, new_j = i + di, j + dj\n",
        "                    # Check if new position is within bounds and not a wall (1)\n",
        "                    if 0 <= new_i < map_array.shape[0] and 0 <= new_j < map_array.shape[1] and map_array[new_i, new_j] != 1:\n",
        "                        updated_map[new_i, new_j] = 2\n",
        "\n",
        "    return updated_map"
      ],
      "metadata": {
        "id": "3znQvtZ_blJn"
      },
      "execution_count": null,
      "outputs": []
    },
    {
      "cell_type": "code",
      "source": [
        "m = m_orig.copy()\n",
        "for _ in range(64):\n",
        "  m = update_map(m)\n",
        "np.sum(m == 2)"
      ],
      "metadata": {
        "colab": {
          "base_uri": "https://localhost:8080/"
        },
        "id": "INfoG3IcdugW",
        "outputId": "c640ce59-853b-4c42-a130-2d582701153a"
      },
      "execution_count": null,
      "outputs": [
        {
          "output_type": "execute_result",
          "data": {
            "text/plain": [
              "3758"
            ]
          },
          "metadata": {},
          "execution_count": 249
        }
      ]
    },
    {
      "cell_type": "code",
      "source": [
        "def extend_map_with_tile(map_array, tile_array):\n",
        "    # Create a mask to identify if '2' is at the borders\n",
        "    at_top = 2 in map_array[0, :]\n",
        "    at_bottom = 2 in map_array[-1, :]\n",
        "    at_left = 2 in map_array[:, 0]\n",
        "    at_right = 2 in map_array[:, -1]\n",
        "\n",
        "    # Extend the map with the tile array at the corresponding borders\n",
        "    if at_top:\n",
        "        # Resize the tile to match the width of the map\n",
        "        tile_resized = np.tile(tile_array, (1, map_array.shape[1] // tile_array.shape[1]))\n",
        "        map_array = np.vstack((tile_resized, map_array))\n",
        "    if at_bottom:\n",
        "        # Resize the tile to match the width of the map\n",
        "        tile_resized = np.tile(tile_array, (1, map_array.shape[1] // tile_array.shape[1]))\n",
        "        map_array = np.vstack((map_array, tile_resized))\n",
        "    if at_left:\n",
        "        # Resize the tile to match the height of the map\n",
        "        tile_resized = np.tile(tile_array, (map_array.shape[0] // tile_array.shape[0], 1))\n",
        "        map_array = np.hstack((tile_resized, map_array))\n",
        "    if at_right:\n",
        "        # Resize the tile to match the height of the map\n",
        "        tile_resized = np.tile(tile_array, (map_array.shape[0] // tile_array.shape[0], 1))\n",
        "        map_array = np.hstack((map_array, tile_resized))\n",
        "\n",
        "    return map_array"
      ],
      "metadata": {
        "id": "1kvrXF3oekhQ"
      },
      "execution_count": null,
      "outputs": []
    },
    {
      "cell_type": "code",
      "source": [
        "import matplotlib.pyplot as plt\n",
        "\n",
        "m = m_orig.copy()\n",
        "m_tile = np.where(m_orig == 2, 0, m_orig)\n",
        "count_of_twos = []\n",
        "\n",
        "for _ in range(500):\n",
        "    m = update_map(m)\n",
        "    m = extend_map_with_tile(m, m_tile)\n",
        "    count_of_twos.append(np.sum(m == 2))\n",
        "\n",
        "# Plotting the results\n",
        "plt.plot(count_of_twos)\n",
        "plt.xlabel('Iterations')\n",
        "plt.ylabel('Number of 2s in the Map')\n",
        "plt.title('Number of 2s vs. Iterations')\n",
        "plt.show()"
      ],
      "metadata": {
        "colab": {
          "base_uri": "https://localhost:8080/",
          "height": 472
        },
        "id": "_CH8nRr8C_ir",
        "outputId": "00103a44-7148-446a-d920-f55b7a0c7096"
      },
      "execution_count": null,
      "outputs": [
        {
          "output_type": "display_data",
          "data": {
            "text/plain": [
              "<Figure size 640x480 with 1 Axes>"
            ],
            "image/png": "[encoded data removed]"
          },
          "metadata": {}
        }
      ]
    },
    {
      "cell_type": "code",
      "source": [
        "# Calculating the differences in the count of '2's between consecutive iterations\n",
        "differences = np.diff(count_of_twos[::])\n",
        "\n",
        "# Plotting the differences\n",
        "plt.plot(differences)\n",
        "plt.show()"
      ],
      "metadata": {
        "colab": {
          "base_uri": "https://localhost:8080/",
          "height": 430
        },
        "id": "oDQHWVaHezlA",
        "outputId": "c42ec4cb-fbb9-4cd6-fa50-d888e268549b"
      },
      "execution_count": null,
      "outputs": [
        {
          "output_type": "display_data",
          "data": {
            "text/plain": [
              "<Figure size 640x480 with 1 Axes>"
            ],
            "image/png": "[encoded data removed]"
          },
          "metadata": {}
        }
      ]
    },
    {
      "cell_type": "code",
      "source": [
        "np.diff(count_of_twos[170:350:])"
      ],
      "metadata": {
        "colab": {
          "base_uri": "https://localhost:8080/"
        },
        "id": "7sRUAurC3UY-",
        "outputId": "78b4148e-9a81-4264-cb5e-6884d93f9881"
      },
      "execution_count": null,
      "outputs": [
        {
          "output_type": "execute_result",
          "data": {
            "text/plain": [
              "array([266, 334, 260, 358, 265, 383, 241, 386, 244, 378, 229, 427, 233, 405, 228, 414, 227, 429, 230, 438, 240, 517, 285, 527, 270, 518, 274, 522, 224, 478, 221, 475, 227, 500, 227, 492, 234, 507, 253, 456, 287, 475, 284, 475, 312, 451, 330, 441, 327, 427, 351, 409, 348, 458, 374, 460, 329, 450, 327, 459, 371, 456, 365, 477, 378, 468, 356, 488, 359, 493, 366, 491, 394, 467, 389, 444, 403, 472, 412, 484, 402, 488, 407, 503, 398, 479, 429, 481, 451, 465, 457, 457, 479, 459, 493, 431, 494, 433, 540, 430, 511, 456, 518, 461, 480, 441, 515, 464, 547, 458, 568, 427, 564, 457, 550, 457, 566, 469, 553, 456, 585, 431, 581, 440, 556, 475, 586, 495, 546, 518, 557, 466, 586, 458, 627, 462, 675, 414, 673, 422, 655, 390, 737, 390, 702, 380, 717, 379, 733, 382, 741, 395, 866, 475, 880, 450, 862, 454, 866, 377, 788, 367, 778, 378, 806, 376, 791, 391, 817, 417, 734, 464, 761, 463, 757, 503, 721, 527, 702])"
            ]
          },
          "metadata": {},
          "execution_count": 273
        }
      ]
    },
    {
      "cell_type": "code",
      "source": [
        "np.diff(count_of_twos[193:195]), np.diff(count_of_twos[324:326])"
      ],
      "metadata": {
        "colab": {
          "base_uri": "https://localhost:8080/"
        },
        "id": "9oeZpqjN4fxc",
        "outputId": "80e4fc0d-0ed6-4835-9482-124d66a9b12d"
      },
      "execution_count": null,
      "outputs": [
        {
          "output_type": "execute_result",
          "data": {
            "text/plain": [
              "(array([527]), array([880]))"
            ]
          },
          "metadata": {},
          "execution_count": 285
        }
      ]
    },
    {
      "cell_type": "code",
      "source": [
        "324-193"
      ],
      "metadata": {
        "colab": {
          "base_uri": "https://localhost:8080/"
        },
        "id": "Xh5zKRy95XJB",
        "outputId": "ebb61327-b07b-4e2b-d0dc-5c9a1ccfc2a0"
      },
      "execution_count": null,
      "outputs": [
        {
          "output_type": "execute_result",
          "data": {
            "text/plain": [
              "131"
            ]
          },
          "metadata": {},
          "execution_count": 287
        }
      ]
    },
    {
      "cell_type": "code",
      "source": [
        "differences = np.diff(count_of_twos[target_offset::131])\n",
        "differences"
      ],
      "metadata": {
        "colab": {
          "base_uri": "https://localhost:8080/"
        },
        "id": "pVag9Aph5g8u",
        "outputId": "e50d938d-48ce-40a0-cd11-9c220d108945"
      },
      "execution_count": null,
      "outputs": [
        {
          "output_type": "execute_result",
          "data": {
            "text/plain": [
              "array([30462, 60834, 91206])"
            ]
          },
          "metadata": {},
          "execution_count": 309
        }
      ]
    },
    {
      "cell_type": "code",
      "source": [
        "diff2 = np.diff(differences)\n",
        "diff2"
      ],
      "metadata": {
        "colab": {
          "base_uri": "https://localhost:8080/"
        },
        "id": "KwhVG0CNtiLo",
        "outputId": "d75b29c1-15bd-4c03-fbdf-e4265a9492d9"
      },
      "execution_count": null,
      "outputs": [
        {
          "output_type": "execute_result",
          "data": {
            "text/plain": [
              "array([30372, 30372])"
            ]
          },
          "metadata": {},
          "execution_count": 310
        }
      ]
    },
    {
      "cell_type": "code",
      "source": [
        "cycle = 131\n",
        "target = 26501365\n",
        "target_idx = target-1\n",
        "target_offset = target_idx%cycle\n",
        "series_offset = 2\n",
        "num_terms = (target_idx - target_offset)/cycle - series_offset"
      ],
      "metadata": {
        "id": "6Qjcl7M-0d_4"
      },
      "execution_count": null,
      "outputs": []
    },
    {
      "cell_type": "code",
      "source": [
        "a1 = differences[series_offset]\n",
        "d = 30372\n",
        "offset_total = count_of_twos[target_offset+cycle*series_offset]"
      ],
      "metadata": {
        "id": "otohe_thrax4"
      },
      "execution_count": null,
      "outputs": []
    },
    {
      "cell_type": "code",
      "source": [
        "def sum_arithmetic_series(a1, d, n):\n",
        "    \"\"\"\n",
        "    Parameters:\n",
        "    a1 (int/float): The first term of the series.\n",
        "    d (int/float): The common difference between terms.\n",
        "    n (int): The number of terms in the series.\n",
        "    \"\"\"\n",
        "    return n / 2 * (2 * a1 + (n - 1) * d)\n",
        "\n",
        "sum_arithmetic_series(a1, d, num_terms)+offset_total"
      ],
      "metadata": {
        "colab": {
          "base_uri": "https://localhost:8080/"
        },
        "id": "iDUkrDfFg8s8",
        "outputId": "82dd8b9a-3a4c-4a82-87da-3a45deed8292"
      },
      "execution_count": null,
      "outputs": [
        {
          "output_type": "execute_result",
          "data": {
            "text/plain": [
              "621494544278648.0"
            ]
          },
          "metadata": {},
          "execution_count": 313
        }
      ]
    }
  ]
}