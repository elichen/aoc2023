{
  "nbformat": 4,
  "nbformat_minor": 0,
  "metadata": {
    "colab": {
      "provenance": [],
      "authorship_tag": "ABX9TyMYb1klTa6FpZVXIsT7u9F1",
      "include_colab_link": true
    },
    "kernelspec": {
      "name": "python3",
      "display_name": "Python 3"
    },
    "language_info": {
      "name": "python"
    }
  },
  "cells": [
    {
      "cell_type": "markdown",
      "metadata": {
        "id": "view-in-github",
        "colab_type": "text"
      },
      "source": [
        "<a href=\"https://colab.research.google.com/github/elichen/aoc2023/blob/main/Day_18_Lavaduct_Lagoon.ipynb\" target=\"_parent\"><img src=\"https://colab.research.google.com/assets/colab-badge.svg\" alt=\"Open In Colab\"/></a>"
      ]
    },
    {
      "cell_type": "code",
      "source": [
        "input = \"\"\"R 6 (#70c710)\n",
        "D 5 (#0dc571)\n",
        "L 2 (#5713f0)\n",
        "D 2 (#d2c081)\n",
        "R 2 (#59c680)\n",
        "D 2 (#411b91)\n",
        "L 5 (#8ceee2)\n",
        "U 2 (#caa173)\n",
        "L 1 (#1b58a2)\n",
        "U 2 (#caa171)\n",
        "R 2 (#7807d2)\n",
        "U 3 (#a77fa3)\n",
        "L 2 (#015232)\n",
        "U 2 (#7a21e3)\"\"\".split('\\n')"
      ],
      "metadata": {
        "id": "eyWFatbgueWr"
      },
      "execution_count": null,
      "outputs": []
    },
    {
      "cell_type": "code",
      "source": [
        "input = [x.rstrip() for x in open(\"input.txt\").readlines()]"
      ],
      "metadata": {
        "id": "VAn-31Nou0BN"
      },
      "execution_count": null,
      "outputs": []
    },
    {
      "cell_type": "code",
      "source": [
        "def calculate_polygon_area_with_thickness(commands):\n",
        "    # Initialize the starting point, vertex list, and thickness adjustment\n",
        "    x, y = 0, 0\n",
        "    vertices = [(x, y)]\n",
        "    thickness_adjustment = 0\n",
        "\n",
        "    # Map directions to vectors for easy computation\n",
        "    direction_map = {'U': (0, -1), 'D': (0, 1), 'L': (-1, 0), 'R': (1, 0)}\n",
        "    last_direction = commands[-1][0]\n",
        "\n",
        "    # Process each command and update the coordinates\n",
        "    for direction, distance in commands:\n",
        "        distance = int(distance)\n",
        "        vector = direction_map[direction]\n",
        "\n",
        "        # Update the coordinates and vertices\n",
        "        x += vector[0] * distance\n",
        "        y += vector[1] * distance\n",
        "        vertices.append((x, y))\n",
        "\n",
        "        # Calculate thickness adjustment\n",
        "        thickness_adjustment += distance * 0.5  # Border thickness for straight lines\n",
        "        if last_direction != direction:\n",
        "            if last_direction == 'U' and direction == 'R' or \\\n",
        "               last_direction == 'R' and direction == 'D' or \\\n",
        "               last_direction == 'D' and direction == 'L' or \\\n",
        "               last_direction == 'L' and direction == 'U':\n",
        "                thickness_adjustment += 0.25  # Clockwise turn\n",
        "            else:\n",
        "                thickness_adjustment -= 0.25  # Anticlockwise turn\n",
        "\n",
        "        last_direction = direction\n",
        "\n",
        "    # Shoelace formula to calculate area\n",
        "    n = len(vertices)\n",
        "    area = 0.0\n",
        "    for i in range(n):\n",
        "        j = (i + 1) % n\n",
        "        area += vertices[i][0] * vertices[j][1]\n",
        "        area -= vertices[j][0] * vertices[i][1]\n",
        "    area = abs(area) / 2.0\n",
        "\n",
        "    # Adjust the area for the thickness\n",
        "    adjusted_area = area + thickness_adjustment\n",
        "\n",
        "    return adjusted_area\n",
        "\n",
        "commands = [(x.split()[0],x.split()[1]) for x in input]\n",
        "calculate_polygon_area_with_thickness(commands)"
      ],
      "metadata": {
        "colab": {
          "base_uri": "https://localhost:8080/"
        },
        "id": "nj61nMilVz_W",
        "outputId": "4846f2c5-83a2-4124-a66a-8029269fe0a4"
      },
      "execution_count": null,
      "outputs": [
        {
          "output_type": "execute_result",
          "data": {
            "text/plain": [
              "66993.0"
            ]
          },
          "metadata": {},
          "execution_count": 12
        }
      ]
    },
    {
      "cell_type": "code",
      "source": [
        "def parse_hex_commands(hex_commands):\n",
        "    parsed_commands = []\n",
        "\n",
        "    for command in hex_commands:\n",
        "        hex_code = command.split('#')[-1].strip()  # Extract the hexadecimal code\n",
        "\n",
        "        # Decode distance and direction\n",
        "        distance = int(hex_code[:5], 16)  # Convert first five digits to decimal\n",
        "        direction_code = int(hex_code[5], 16)  # Last digit for direction\n",
        "\n",
        "        # Map direction code to actual direction\n",
        "        direction = ['R', 'D', 'L', 'U'][direction_code]\n",
        "\n",
        "        parsed_commands.append((direction, distance))\n",
        "\n",
        "    return parsed_commands\n",
        "\n",
        "parsed_hex_commands = parse_hex_commands(input)"
      ],
      "metadata": {
        "id": "ap-HVU94wtqq"
      },
      "execution_count": null,
      "outputs": []
    },
    {
      "cell_type": "code",
      "source": [
        "calculate_polygon_area_with_thickness(parsed_hex_commands)"
      ],
      "metadata": {
        "id": "QamSdWmf7LFi",
        "colab": {
          "base_uri": "https://localhost:8080/"
        },
        "outputId": "1743bccc-7624-4b53-b813-4cf7cda08a3e"
      },
      "execution_count": null,
      "outputs": [
        {
          "output_type": "execute_result",
          "data": {
            "text/plain": [
              "177243763226648.0"
            ]
          },
          "metadata": {},
          "execution_count": 14
        }
      ]
    }
  ]
}