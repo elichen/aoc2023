{
  "nbformat": 4,
  "nbformat_minor": 0,
  "metadata": {
    "colab": {
      "provenance": [],
      "authorship_tag": "ABX9TyM1q1yp+pkQpYF3THwY/pLo",
      "include_colab_link": true
    },
    "kernelspec": {
      "name": "python3",
      "display_name": "Python 3"
    },
    "language_info": {
      "name": "python"
    }
  },
  "cells": [
    {
      "cell_type": "markdown",
      "metadata": {
        "id": "view-in-github",
        "colab_type": "text"
      },
      "source": [
        "<a href=\"https://colab.research.google.com/github/elichen/aoc2023/blob/main/Day_3_Gear_Ratios.ipynb\" target=\"_parent\"><img src=\"https://colab.research.google.com/assets/colab-badge.svg\" alt=\"Open In Colab\"/></a>"
      ]
    },
    {
      "cell_type": "code",
      "execution_count": null,
      "metadata": {
        "id": "LioDfdsd_DHm"
      },
      "outputs": [],
      "source": [
        "input = \"\"\"467..114..\n",
        "...*......\n",
        "..35..633.\n",
        "......#...\n",
        "617*......\n",
        ".....+.58.\n",
        "..592.....\n",
        "......755.\n",
        "...$.*....\n",
        ".664.598..\"\"\".split('\\n')\n",
        "input = open(\"input.txt\").readlines()\n",
        "input = [x.rstrip() for x in input]"
      ]
    },
    {
      "cell_type": "code",
      "source": [
        "# Re-defining the function to find numbers adjacent to symbols, including single-digit numbers\n",
        "\n",
        "def find_numbers(map_strings):\n",
        "    result = []\n",
        "\n",
        "    # Function to check the neighbors of a given position\n",
        "    def has_neighbor_symbol(i, j):\n",
        "        for di in [-1, 0, 1]:\n",
        "            for dj in [-1, 0, 1]:\n",
        "                if di == 0 and dj == 0:\n",
        "                    continue\n",
        "                ni, nj = i + di, j + dj\n",
        "                if 0 <= ni < len(map_strings) and 0 <= nj < len(map_strings[ni]):\n",
        "                    neighbor = map_strings[ni][nj]\n",
        "                    if neighbor != '.' and not neighbor.isdigit():\n",
        "                        return True\n",
        "        return False\n",
        "\n",
        "    # Iterate over each line in the map\n",
        "    for i in range(len(map_strings)):\n",
        "        line = map_strings[i]\n",
        "        j = 0\n",
        "        while j < len(line):\n",
        "            # Check if current character is a digit\n",
        "            if line[j].isdigit():\n",
        "                start_j = j\n",
        "                number = ''\n",
        "                # Collect the entire number\n",
        "                while j < len(line) and line[j].isdigit():\n",
        "                    number += line[j]\n",
        "                    j += 1\n",
        "\n",
        "                # Check all digits of the number for adjacent symbols\n",
        "                for k in range(start_j, j):\n",
        "                    if has_neighbor_symbol(i, k):\n",
        "                        result.append(number)\n",
        "                        break\n",
        "            else:\n",
        "                j += 1\n",
        "\n",
        "    return result\n",
        "\n",
        "numbers = find_numbers(input)\n",
        "sum([int(x) for x in numbers])"
      ],
      "metadata": {
        "colab": {
          "base_uri": "https://localhost:8080/"
        },
        "id": "L69xurXyWCU1",
        "outputId": "ffca8ce2-160b-4f1d-d58e-3c5451e951a2"
      },
      "execution_count": null,
      "outputs": [
        {
          "output_type": "execute_result",
          "data": {
            "text/plain": [
              "537832"
            ]
          },
          "metadata": {},
          "execution_count": 48
        }
      ]
    },
    {
      "cell_type": "code",
      "source": [
        "# Function to create a dictionary of the coordinates of all '*' symbols and their adjacent numbers\n",
        "\n",
        "def find_stars_and_adjacent_numbers(map_strings):\n",
        "    stars_dict = {}\n",
        "\n",
        "    # Reusing the has_neighbor_symbol function from the previous code\n",
        "    def has_neighbor_symbol(i, j, symbol='*'):\n",
        "        for di in [-1, 0, 1]:\n",
        "            for dj in [-1, 0, 1]:\n",
        "                if di == 0 and dj == 0:\n",
        "                    continue\n",
        "                ni, nj = i + di, j + dj\n",
        "                if 0 <= ni < len(map_strings) and 0 <= nj < len(map_strings[ni]):\n",
        "                    if map_strings[ni][nj] == symbol:\n",
        "                        return True\n",
        "        return False\n",
        "\n",
        "    # Find all '*' coordinates and initialize their lists\n",
        "    for i, line in enumerate(map_strings):\n",
        "        for j, char in enumerate(line):\n",
        "            if char == '*':\n",
        "                stars_dict[(i, j)] = []\n",
        "\n",
        "    # Iterate over each line in the map\n",
        "    for i in range(len(map_strings)):\n",
        "        line = map_strings[i]\n",
        "        j = 0\n",
        "        while j < len(line):\n",
        "            # Check if current character is a digit\n",
        "            if line[j].isdigit():\n",
        "                start_j = j\n",
        "                number = ''\n",
        "                # Collect the entire number\n",
        "                while j < len(line) and line[j].isdigit():\n",
        "                    number += line[j]\n",
        "                    j += 1\n",
        "\n",
        "                # Check all digits of the number for adjacent '*'\n",
        "                for k in range(start_j, j):\n",
        "                    if has_neighbor_symbol(i, k):\n",
        "                        # Add the number to all adjacent '*' in the dictionary\n",
        "                        for di in [-1, 0, 1]:\n",
        "                            for dj in [-1, 0, 1]:\n",
        "                                if di == 0 and dj == 0:\n",
        "                                    continue\n",
        "                                ni, nj = i + di, k + dj\n",
        "                                if 0 <= ni < len(map_strings) and 0 <= nj < len(map_strings[ni]) and map_strings[ni][nj] == '*':\n",
        "                                    if number not in stars_dict[(ni, nj)]:\n",
        "                                        stars_dict[(ni, nj)].append(number)\n",
        "            else:\n",
        "                j += 1\n",
        "\n",
        "    return stars_dict\n",
        "\n",
        "stars = find_stars_and_adjacent_numbers(input)\n",
        "total = 0\n",
        "for l in stars.values():\n",
        "  if len(l) == 2:\n",
        "    total += int(l[0])*int(l[1])\n",
        "total"
      ],
      "metadata": {
        "colab": {
          "base_uri": "https://localhost:8080/"
        },
        "id": "daevjdghYvph",
        "outputId": "364be6d7-02c2-4079-9c2c-e294c8fb8e60"
      },
      "execution_count": null,
      "outputs": [
        {
          "output_type": "execute_result",
          "data": {
            "text/plain": [
              "81939900"
            ]
          },
          "metadata": {},
          "execution_count": 59
        }
      ]
    }
  ]
}