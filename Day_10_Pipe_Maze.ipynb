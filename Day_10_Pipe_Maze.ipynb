{
  "nbformat": 4,
  "nbformat_minor": 0,
  "metadata": {
    "colab": {
      "provenance": [],
      "authorship_tag": "ABX9TyN3EkHMZLXlrujcRUoF+KFE",
      "include_colab_link": true
    },
    "kernelspec": {
      "name": "python3",
      "display_name": "Python 3"
    },
    "language_info": {
      "name": "python"
    }
  },
  "cells": [
    {
      "cell_type": "markdown",
      "metadata": {
        "id": "view-in-github",
        "colab_type": "text"
      },
      "source": [
        "<a href=\"https://colab.research.google.com/github/elichen/aoc2023/blob/main/Day_10_Pipe_Maze.ipynb\" target=\"_parent\"><img src=\"https://colab.research.google.com/assets/colab-badge.svg\" alt=\"Open In Colab\"/></a>"
      ]
    },
    {
      "cell_type": "code",
      "execution_count": null,
      "metadata": {
        "id": "AojCQn5X-FPW"
      },
      "outputs": [],
      "source": [
        "input = \"\"\"7-F7-\n",
        ".FJ|7\n",
        "SJLL7\n",
        "|F--J\n",
        "LJ.LJ\"\"\".split('\\n')\n",
        "# input = \"\"\"-L|F7\n",
        "# 7S-7|\n",
        "# L|7||\n",
        "# -L-J|\n",
        "# L|-JF\"\"\".split('\\n')"
      ]
    },
    {
      "cell_type": "code",
      "source": [
        "input = [x.rstrip() for x in open(\"input.txt\").readlines()]"
      ],
      "metadata": {
        "id": "l9N2EcZ4kTPQ"
      },
      "execution_count": null,
      "outputs": []
    },
    {
      "cell_type": "code",
      "source": [
        "from collections import deque\n",
        "\n",
        "def is_valid(x, y, grid):\n",
        "    return 0 <= x < len(grid) and 0 <= y < len(grid[0])\n",
        "\n",
        "def get_neighbors(x, y, tile, grid):\n",
        "    if tile == 'S':\n",
        "        possible_neighbors = []\n",
        "        if is_valid(x-1, y, grid) and grid[x-1][y] in '|F7':  # Check top\n",
        "            possible_neighbors.append((x-1, y))\n",
        "        if is_valid(x+1, y, grid) and grid[x+1][y] in '|JL':  # Check bottom\n",
        "            possible_neighbors.append((x+1, y))\n",
        "        if is_valid(x, y-1, grid) and grid[x][y-1] in '-LF':  # Check left\n",
        "            possible_neighbors.append((x, y-1))\n",
        "        if is_valid(x, y+1, grid) and grid[x][y+1] in '-7J':  # Check right\n",
        "            possible_neighbors.append((x, y+1))\n",
        "        return possible_neighbors\n",
        "    else:\n",
        "        directions = {\n",
        "            '|': [(x-1, y), (x+1, y)],\n",
        "            '-': [(x, y-1), (x, y+1)],\n",
        "            'L': [(x, y+1), (x-1, y)],\n",
        "            'J': [(x, y-1), (x-1, y)],\n",
        "            '7': [(x+1, y), (x, y-1)],\n",
        "            'F': [(x+1, y), (x, y+1)],\n",
        "        }\n",
        "        return [(nx, ny) for nx, ny in directions[tile] if is_valid(nx, ny, grid)]\n",
        "\n",
        "def longest_pipe_path(input_map):\n",
        "    grid = [list(row) for row in input_map]\n",
        "    start = None\n",
        "    for i, row in enumerate(grid):\n",
        "        for j, tile in enumerate(row):\n",
        "            if tile == 'S':\n",
        "                start = (i, j)\n",
        "                break\n",
        "        if start:\n",
        "            break\n",
        "\n",
        "    if not start:\n",
        "        return 0\n",
        "\n",
        "    visited = set()\n",
        "    queue = deque([(start, 0)])\n",
        "    max_length = 0\n",
        "\n",
        "    while queue:\n",
        "        (x, y), length = queue.popleft()\n",
        "        if (x, y) in visited:\n",
        "            continue\n",
        "        visited.add((x, y))\n",
        "        max_length = max(max_length, length)\n",
        "\n",
        "        for nx, ny in get_neighbors(x, y, grid[x][y], grid):\n",
        "            if (nx, ny) not in visited:\n",
        "                queue.append(((nx, ny), length + 1))\n",
        "\n",
        "    return max_length\n",
        "\n",
        "# Test the function again\n",
        "longest_pipe_path(input)"
      ],
      "metadata": {
        "colab": {
          "base_uri": "https://localhost:8080/"
        },
        "id": "X_J97Qqr-IWO",
        "outputId": "f6eed495-18be-4c72-8065-a1ea412e3122"
      },
      "execution_count": null,
      "outputs": [
        {
          "output_type": "execute_result",
          "data": {
            "text/plain": [
              "6714"
            ]
          },
          "metadata": {},
          "execution_count": 76
        }
      ]
    },
    {
      "cell_type": "code",
      "source": [
        "def find_start(grid):\n",
        "    return next(((j, i) for i, row in enumerate(grid) for j, cell in enumerate(row) if cell == 'S'), (None, None))\n",
        "\n",
        "def traverse_path(init_map, init_direction):\n",
        "    map = [[x for x in row] for row in init_map]\n",
        "    return_map = [[\".\" for x in row] for row in map]\n",
        "    start = find_start(map)\n",
        "    direction = init_direction\n",
        "    x, y = start\n",
        "    while True:\n",
        "        if direction == 'N':\n",
        "            return_map[y][x] = direction\n",
        "        elif direction == 'S':\n",
        "            return_map[y][x] = direction\n",
        "        # Move in the current direction\n",
        "        if direction == 'N':\n",
        "            y -= 1\n",
        "        elif direction == 'S':\n",
        "            y += 1\n",
        "        elif direction == 'W':\n",
        "            x -= 1\n",
        "        elif direction == 'E':\n",
        "            x += 1\n",
        "\n",
        "        current = map[y][x]\n",
        "        return_map[y][x] = map[y][x]\n",
        "\n",
        "        # Check if we have returned to the start\n",
        "        if current == 'S':\n",
        "            break\n",
        "\n",
        "        if direction == 'N':\n",
        "            return_map[y][x] = direction\n",
        "        elif direction == 'S':\n",
        "            return_map[y][x] = direction\n",
        "\n",
        "        # Update direction based on the type of node\n",
        "        if current == 'L':\n",
        "            direction = 'E' if direction == 'S' else 'N'\n",
        "        elif current == 'J':\n",
        "            direction = 'N' if direction == 'E' else 'W'\n",
        "        elif current == '7':\n",
        "            direction = 'S' if direction == 'E' else 'W'\n",
        "        elif current == 'F':\n",
        "            direction = 'S' if direction == 'W' else 'E'\n",
        "\n",
        "        if direction == 'N':\n",
        "            return_map[y][x] = direction\n",
        "        elif direction == 'S':\n",
        "            return_map[y][x] = direction\n",
        "\n",
        "    if direction == 'N':\n",
        "        return_map[y][x] = direction\n",
        "    elif direction == 'S':\n",
        "        return_map[y][x] = direction\n",
        "\n",
        "    return [\"\".join(x) for x in return_map]\n",
        "\n",
        "test_map = traverse_path(input, \"S\")"
      ],
      "metadata": {
        "id": "6jtRDTBKq0Pv"
      },
      "execution_count": null,
      "outputs": []
    },
    {
      "cell_type": "code",
      "source": [
        "inside = False\n",
        "total = 0\n",
        "for y,row in enumerate(test_map):\n",
        "  for x,c in enumerate(row):\n",
        "    if c == \"N\": inside = True\n",
        "    if c == \"S\": inside = False\n",
        "    if c == \".\" and inside:\n",
        "      total += 1\n",
        "total"
      ],
      "metadata": {
        "colab": {
          "base_uri": "https://localhost:8080/"
        },
        "id": "veWoxUWgpAew",
        "outputId": "d5e09fe9-6d3c-4b5e-8b99-d26732a5f6a8"
      },
      "execution_count": null,
      "outputs": [
        {
          "output_type": "execute_result",
          "data": {
            "text/plain": [
              "429"
            ]
          },
          "metadata": {},
          "execution_count": 81
        }
      ]
    },
    {
      "cell_type": "code",
      "source": [],
      "metadata": {
        "id": "2LPFwLUqtgZb"
      },
      "execution_count": null,
      "outputs": []
    }
  ]
}