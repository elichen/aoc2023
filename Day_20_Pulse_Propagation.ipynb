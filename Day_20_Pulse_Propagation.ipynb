{
  "nbformat": 4,
  "nbformat_minor": 0,
  "metadata": {
    "colab": {
      "provenance": [],
      "authorship_tag": "ABX9TyOHqKTRKlAR2O5Ucg2CEvF0",
      "include_colab_link": true
    },
    "kernelspec": {
      "name": "python3",
      "display_name": "Python 3"
    },
    "language_info": {
      "name": "python"
    }
  },
  "cells": [
    {
      "cell_type": "markdown",
      "metadata": {
        "id": "view-in-github",
        "colab_type": "text"
      },
      "source": [
        "<a href=\"https://colab.research.google.com/github/elichen/aoc2023/blob/main/Day_20_Pulse_Propagation.ipynb\" target=\"_parent\"><img src=\"https://colab.research.google.com/assets/colab-badge.svg\" alt=\"Open In Colab\"/></a>"
      ]
    },
    {
      "cell_type": "code",
      "source": [
        "input = \"\"\"broadcaster -> a\n",
        "%a -> inv, con\n",
        "&inv -> b\n",
        "%b -> con\n",
        "&con -> output\"\"\".split('\\n')"
      ],
      "metadata": {
        "id": "V27SSuZ3rMIS"
      },
      "execution_count": null,
      "outputs": []
    },
    {
      "cell_type": "code",
      "source": [
        "input = [x.rstrip() for x in open(\"input.txt\").readlines()]"
      ],
      "metadata": {
        "id": "pkNfVtqkxMIl"
      },
      "execution_count": null,
      "outputs": []
    },
    {
      "cell_type": "code",
      "execution_count": null,
      "metadata": {
        "colab": {
          "base_uri": "https://localhost:8080/"
        },
        "id": "I-UxIOFAopx1",
        "outputId": "7a21fcbb-8aa3-45fd-8e8c-3c1c1787a4bf"
      },
      "outputs": [
        {
          "output_type": "execute_result",
          "data": {
            "text/plain": [
              "949764474"
            ]
          },
          "metadata": {},
          "execution_count": 21
        }
      ],
      "source": [
        "class FlipFlopModule:\n",
        "    def __init__(self):\n",
        "        self.state = False  # Initially off\n",
        "\n",
        "    def receive_pulse(self, pulse_type, src=None):\n",
        "        if pulse_type == \"low\":\n",
        "            self.state = not self.state\n",
        "            return \"high\" if self.state else \"low\"\n",
        "        return None\n",
        "\n",
        "class ConjunctionModule:\n",
        "    def __init__(self, input_modules, name):\n",
        "        self.inputs = {mod: \"low\" for mod in input_modules}\n",
        "        self.name = name\n",
        "\n",
        "    def receive_pulse(self, pulse_type, src):\n",
        "        self.inputs[src] = pulse_type\n",
        "        return \"low\" if all(pulse == \"high\" for pulse in self.inputs.values()) else \"high\"\n",
        "\n",
        "class BroadcasterModule:\n",
        "    def __init__(self):\n",
        "        pass\n",
        "\n",
        "    def receive_pulse(self, pulse_type, src=None):\n",
        "        return pulse_type\n",
        "\n",
        "def parse_configuration(config):\n",
        "    modules = {}\n",
        "    connections = {}\n",
        "    input_modules_for_conjunction = {}  # Store input modules for conjunction modules\n",
        "\n",
        "    # First pass to identify all modules and their destinations\n",
        "    for line in config:\n",
        "        parts = line.split(\" -> \")\n",
        "        name, dests = parts[0], parts[1].split(\", \")\n",
        "        if name.startswith(\"%\"):\n",
        "            modules[name[1:]] = FlipFlopModule()\n",
        "        else:\n",
        "            modules[name.strip(\"%&\")] = None  # Temporary placeholder for non-flip-flop modules\n",
        "        connections[name.strip(\"%&\")] = dests\n",
        "\n",
        "    # Second pass to determine input modules for conjunction modules\n",
        "    for src, dests in connections.items():\n",
        "        for dst in dests:\n",
        "            if dst in modules and modules[dst] is None:  # Indicates a potential conjunction module\n",
        "                if dst not in input_modules_for_conjunction:\n",
        "                    input_modules_for_conjunction[dst] = set()\n",
        "                input_modules_for_conjunction[dst].add(src)\n",
        "\n",
        "    # Create conjunction and broadcaster modules with proper inputs\n",
        "    for name in modules:\n",
        "        if modules[name] is None:  # Replace placeholder with actual module\n",
        "            if name in input_modules_for_conjunction:\n",
        "                modules[name] = ConjunctionModule(input_modules_for_conjunction[name], name)\n",
        "            else:\n",
        "                modules[name] = BroadcasterModule()\n",
        "\n",
        "    return modules, connections\n",
        "\n",
        "def simulate_pulses(modules, connections, bus):\n",
        "    low_pulse_count = 0\n",
        "    high_pulse_count = 0\n",
        "\n",
        "    while bus:\n",
        "        src, dst, pulse_type = bus.pop(0)\n",
        "        # print(f\"{src} -{pulse_type}-> {dst}\")\n",
        "\n",
        "        # Increment counters based on pulse type\n",
        "        if pulse_type == \"low\":\n",
        "            low_pulse_count += 1\n",
        "        elif pulse_type == \"high\":\n",
        "            high_pulse_count += 1\n",
        "\n",
        "        if dst == \"rx\" and pulse_type == \"low\": break\n",
        "        if dst == \"kj\" and pulse_type == \"hight\":\n",
        "          print(f\"{src} -{pulse_type}-> {dst}\")\n",
        "        if dst in modules:\n",
        "            new_pulse = modules[dst].receive_pulse(pulse_type, src)\n",
        "            if new_pulse:\n",
        "                for dest in connections[dst]:\n",
        "                    bus.append((dst, dest, new_pulse))\n",
        "\n",
        "    return low_pulse_count, high_pulse_count\n",
        "\n",
        "modules, connections = parse_configuration(input)\n",
        "low, hi = 0,0\n",
        "for i in range(1000):\n",
        "  bus = [(\"button\", \"broadcaster\", \"low\")]\n",
        "  low_pulse_count, high_pulse_count = simulate_pulses(modules, connections, bus)\n",
        "  low += low_pulse_count\n",
        "  hi += high_pulse_count\n",
        "low * hi"
      ]
    },
    {
      "cell_type": "code",
      "source": [
        "def simulate_pulses(i, modules, connections, bus):\n",
        "    low_pulse_count = 0\n",
        "    high_pulse_count = 0\n",
        "\n",
        "    while bus:\n",
        "        src, dst, pulse_type = bus.pop(0)\n",
        "        # print(f\"{src} -{pulse_type}-> {dst}\")\n",
        "\n",
        "        # Increment counters based on pulse type\n",
        "        if pulse_type == \"low\":\n",
        "            low_pulse_count += 1\n",
        "        elif pulse_type == \"high\":\n",
        "            high_pulse_count += 1\n",
        "\n",
        "        if dst == \"rx\" and pulse_type == \"low\": break\n",
        "        if dst == \"kj\" and pulse_type == \"high\":\n",
        "          print(i, f\"{src} -{pulse_type}-> {dst}\")\n",
        "        if dst in modules:\n",
        "            new_pulse = modules[dst].receive_pulse(pulse_type, src)\n",
        "            if new_pulse:\n",
        "                for dest in connections[dst]:\n",
        "                    bus.append((dst, dest, new_pulse))\n",
        "\n",
        "    return low_pulse_count, high_pulse_count\n",
        "\n",
        "modules, connections = parse_configuration(input)\n",
        "for i in range(1, 20000):\n",
        "  bus = [(\"button\", \"broadcaster\", \"low\")]\n",
        "  simulate_pulses(i, modules, connections, bus)"
      ],
      "metadata": {
        "colab": {
          "base_uri": "https://localhost:8080/"
        },
        "id": "IGWbX519xfR-",
        "outputId": "6d4bf9a4-ad7b-4ca6-8d8d-87de022df26d"
      },
      "execution_count": null,
      "outputs": [
        {
          "output_type": "stream",
          "name": "stdout",
          "text": [
            "3863 dr -high-> kj\n",
            "3943 vn -high-> kj\n",
            "3989 zx -high-> kj\n",
            "4003 ln -high-> kj\n",
            "7726 dr -high-> kj\n",
            "7886 vn -high-> kj\n",
            "7978 zx -high-> kj\n",
            "8006 ln -high-> kj\n",
            "11589 dr -high-> kj\n",
            "11829 vn -high-> kj\n",
            "11967 zx -high-> kj\n",
            "12009 ln -high-> kj\n",
            "15452 dr -high-> kj\n",
            "15772 vn -high-> kj\n",
            "15956 zx -high-> kj\n",
            "16012 ln -high-> kj\n",
            "19315 dr -high-> kj\n",
            "19715 vn -high-> kj\n",
            "19945 zx -high-> kj\n"
          ]
        }
      ]
    },
    {
      "cell_type": "code",
      "source": [
        "7726-3863, 7886-3943, 7977-3988, 8005-4002"
      ],
      "metadata": {
        "colab": {
          "base_uri": "https://localhost:8080/"
        },
        "id": "8fHQvkrYYmTL",
        "outputId": "7af3537b-a44c-4990-b9b7-a1d98b19c6d7"
      },
      "execution_count": null,
      "outputs": [
        {
          "output_type": "execute_result",
          "data": {
            "text/plain": [
              "(3863, 3943, 3989, 4003)"
            ]
          },
          "metadata": {},
          "execution_count": 51
        }
      ]
    },
    {
      "cell_type": "code",
      "source": [
        "import math\n",
        "\n",
        "def lcm(a, b):\n",
        "    return abs(a * b) // math.gcd(a, b)\n",
        "\n",
        "def lcm_list(nums):\n",
        "    lcm_value = nums[0]\n",
        "    for num in nums[1:]:\n",
        "        lcm_value = lcm(lcm_value, num)\n",
        "    return lcm_value\n",
        "\n",
        "# Example usage\n",
        "numbers = [3863, 3943, 3989, 4003]\n",
        "result = lcm_list(numbers)\n",
        "print(\"LCM:\", result)"
      ],
      "metadata": {
        "colab": {
          "base_uri": "https://localhost:8080/"
        },
        "id": "InNNTzCaZDkO",
        "outputId": "eedea93d-1d9c-48af-9668-7e1d1adfea7b"
      },
      "execution_count": null,
      "outputs": [
        {
          "output_type": "stream",
          "name": "stdout",
          "text": [
            "LCM: 243221023462303\n"
          ]
        }
      ]
    }
  ]
}