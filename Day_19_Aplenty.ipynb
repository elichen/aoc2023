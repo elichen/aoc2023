{
  "nbformat": 4,
  "nbformat_minor": 0,
  "metadata": {
    "colab": {
      "provenance": [],
      "authorship_tag": "ABX9TyMELtUG7rkEdMGCRIGbKoc4",
      "include_colab_link": true
    },
    "kernelspec": {
      "name": "python3",
      "display_name": "Python 3"
    },
    "language_info": {
      "name": "python"
    }
  },
  "cells": [
    {
      "cell_type": "markdown",
      "metadata": {
        "id": "view-in-github",
        "colab_type": "text"
      },
      "source": [
        "<a href=\"https://colab.research.google.com/github/elichen/aoc2023/blob/main/Day_19_Aplenty.ipynb\" target=\"_parent\"><img src=\"https://colab.research.google.com/assets/colab-badge.svg\" alt=\"Open In Colab\"/></a>"
      ]
    },
    {
      "cell_type": "code",
      "execution_count": null,
      "metadata": {
        "id": "GxU_vjySsFol"
      },
      "outputs": [],
      "source": [
        "input = \"\"\"px{a<2006:qkq,m>2090:A,rfg}\n",
        "pv{a>1716:R,A}\n",
        "lnx{m>1548:A,A}\n",
        "rfg{s<537:gd,x>2440:R,A}\n",
        "qs{s>3448:A,lnx}\n",
        "qkq{x<1416:A,crn}\n",
        "crn{x>2662:A,R}\n",
        "in{s<1351:px,qqz}\n",
        "qqz{s>2770:qs,m<1801:hdj,R}\n",
        "gd{a>3333:R,R}\n",
        "hdj{m>838:A,pv}\n",
        "\n",
        "{x=787,m=2655,a=1222,s=2876}\n",
        "{x=1679,m=44,a=2067,s=496}\n",
        "{x=2036,m=264,a=79,s=2244}\n",
        "{x=2461,m=1339,a=466,s=291}\n",
        "{x=2127,m=1623,a=2188,s=1013}\"\"\""
      ]
    },
    {
      "cell_type": "code",
      "source": [
        "input = open(\"input.txt\").read().rstrip()"
      ],
      "metadata": {
        "id": "kLlgZFErbQQI"
      },
      "execution_count": null,
      "outputs": []
    },
    {
      "cell_type": "code",
      "source": [
        "def parse_data_lines(lines):\n",
        "    data_list = []\n",
        "    for line in lines:\n",
        "        # Remove curly braces and split by comma\n",
        "        pairs = line.strip('{}').split(',')\n",
        "        data_dict = {}\n",
        "        for pair in pairs:\n",
        "            key, value = pair.split('=')\n",
        "            data_dict[key] = int(value)  # Convert value to integer\n",
        "        data_list.append(data_dict)\n",
        "    return data_list"
      ],
      "metadata": {
        "id": "76hWs0GC6bVr"
      },
      "execution_count": null,
      "outputs": []
    },
    {
      "cell_type": "code",
      "source": [
        "# Parse the workflow lines into a dictionary\n",
        "def parse_workflows(lines):\n",
        "    workflows = {}\n",
        "    for line in lines:\n",
        "        name, conditions_str = line.split('{')\n",
        "        conditions = conditions_str[:-1].split(',')  # Remove the closing '}' and split by ','\n",
        "        parsed_conditions = []\n",
        "\n",
        "        for condition in conditions:\n",
        "            if ':' in condition:\n",
        "                condition, target = condition.split(':')\n",
        "                parsed_conditions.append((condition, target))\n",
        "            else:\n",
        "                # Handle the last condition\n",
        "                parsed_conditions.append((\"default\", condition))\n",
        "\n",
        "        workflows[name] = parsed_conditions\n",
        "\n",
        "    return workflows"
      ],
      "metadata": {
        "id": "uOFripzEZsjf"
      },
      "execution_count": null,
      "outputs": []
    },
    {
      "cell_type": "code",
      "source": [
        "workflows, datas = input.split(\"\\n\\n\")\n",
        "datas = parse_data_lines(datas.split('\\n'))\n",
        "workflows = parse_workflows(workflows.split('\\n'))"
      ],
      "metadata": {
        "id": "n9tk0O7qsesC"
      },
      "execution_count": null,
      "outputs": []
    },
    {
      "cell_type": "code",
      "source": [
        "def traverse_workflows(workflows, start_workflow):\n",
        "    def traverse(workflow_name, index, path):\n",
        "        # Termination conditions\n",
        "        if workflow_name == 'A':\n",
        "            return [path]\n",
        "        if workflow_name == 'R':\n",
        "            return []\n",
        "\n",
        "        # Access the current workflow and condition\n",
        "        workflow = workflows.get(workflow_name, [])\n",
        "        if index < len(workflow):\n",
        "            condition, target = workflow[index]\n",
        "        else:\n",
        "            return []\n",
        "\n",
        "        # If it's the default condition, take the target unconditionally\n",
        "        if condition == \"default\":\n",
        "            return traverse(target, 0, path)\n",
        "\n",
        "        # Record the pass and fail paths\n",
        "        pass_path = traverse(target, 0, path + [condition])\n",
        "        negated_condition = negate_condition(condition)\n",
        "        fail_path = traverse(workflow_name, index + 1, path + [negated_condition])\n",
        "\n",
        "        return pass_path + fail_path\n",
        "\n",
        "    # Function to negate a condition\n",
        "    def negate_condition(condition):\n",
        "        if '<' in condition:\n",
        "            return condition.replace('<', '>=')\n",
        "        elif '>' in condition:\n",
        "            return condition.replace('>', '<=')\n",
        "\n",
        "    # Start traversal from the specified workflow\n",
        "    return traverse(start_workflow, 0, [])\n",
        "\n",
        "# Test the function\n",
        "result_paths = traverse_workflows(workflows, 'in')"
      ],
      "metadata": {
        "id": "93EshE70Nli_"
      },
      "execution_count": null,
      "outputs": []
    },
    {
      "cell_type": "code",
      "source": [
        "def calculate_combinations(paths):\n",
        "    max_value = 4000  # Maximum value for each rating\n",
        "\n",
        "    # Function to extract key and value from a condition\n",
        "    def extract_key_value(condition):\n",
        "        for op in ['<=', '>=', '<', '>']:\n",
        "            if op in condition:\n",
        "                key, value = condition.split(op)\n",
        "                return key, op, int(value)\n",
        "        return '', '', 0\n",
        "\n",
        "    # Function to calculate the range of values satisfying a condition\n",
        "    def calculate_range(key, operator, value):\n",
        "        if operator == '<':\n",
        "            return range(1, value)\n",
        "        elif operator == '<=':\n",
        "            return range(1, value + 1)\n",
        "        elif operator == '>':\n",
        "            return range(value + 1, max_value + 1)\n",
        "        elif operator == '>=':\n",
        "            return range(value, max_value + 1)\n",
        "\n",
        "    # Function to calculate combinations for a single path\n",
        "    def calculate_path_combinations(path):\n",
        "        ranges = {'x': range(1, max_value + 1), 'm': range(1, max_value + 1),\n",
        "                  'a': range(1, max_value + 1), 's': range(1, max_value + 1)}\n",
        "\n",
        "        for condition in path:\n",
        "            if condition != 'A':  # Skip 'A' as it's not a condition\n",
        "                key, operator, value = extract_key_value(condition)\n",
        "                ranges[key] = set(ranges[key]).intersection(calculate_range(key, operator, value))\n",
        "\n",
        "        return len(ranges['x']) * len(ranges['m']) * len(ranges['a']) * len(ranges['s'])\n",
        "\n",
        "    # Calculate combinations for all paths and sum them up\n",
        "    total_combinations = sum(calculate_path_combinations(path) for path in paths)\n",
        "    return total_combinations\n",
        "\n",
        "calculate_combinations(result_paths)"
      ],
      "metadata": {
        "colab": {
          "base_uri": "https://localhost:8080/"
        },
        "id": "IM-O06qpm_1W",
        "outputId": "c72e676e-5b73-4ad7-a2f5-1c6629527b5a"
      },
      "execution_count": null,
      "outputs": [
        {
          "output_type": "execute_result",
          "data": {
            "text/plain": [
              "134343280273968"
            ]
          },
          "metadata": {},
          "execution_count": 74
        }
      ]
    }
  ]
}