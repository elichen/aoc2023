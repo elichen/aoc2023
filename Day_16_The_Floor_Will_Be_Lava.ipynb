{
  "nbformat": 4,
  "nbformat_minor": 0,
  "metadata": {
    "colab": {
      "provenance": [],
      "authorship_tag": "ABX9TyML3FcvXIzkWvTYXnQjYD8p",
      "include_colab_link": true
    },
    "kernelspec": {
      "name": "python3",
      "display_name": "Python 3"
    },
    "language_info": {
      "name": "python"
    }
  },
  "cells": [
    {
      "cell_type": "markdown",
      "metadata": {
        "id": "view-in-github",
        "colab_type": "text"
      },
      "source": [
        "<a href=\"https://colab.research.google.com/github/elichen/aoc2023/blob/main/Day_16_The_Floor_Will_Be_Lava.ipynb\" target=\"_parent\"><img src=\"https://colab.research.google.com/assets/colab-badge.svg\" alt=\"Open In Colab\"/></a>"
      ]
    },
    {
      "cell_type": "code",
      "source": [
        "input = [x.rstrip() for x in open(\"input.txt\").readlines()]"
      ],
      "metadata": {
        "id": "TVmGxryJqyma"
      },
      "execution_count": null,
      "outputs": []
    },
    {
      "cell_type": "code",
      "source": [
        "def trace_light_path_bfs(map_2d):\n",
        "    rows = len(map_2d)\n",
        "    cols = len(map_2d[0])\n",
        "    directions = {'right': (0, 1), 'left': (0, -1), 'up': (-1, 0), 'down': (1, 0)}\n",
        "    path_map = [['.' for _ in range(cols)] for _ in range(rows)]\n",
        "    visited = set()\n",
        "    queue = deque([(0, 0, 'right')])\n",
        "\n",
        "    while queue:\n",
        "        x, y, direction = queue.popleft()\n",
        "        if (x, y, direction) not in visited and 0 <= x < rows and 0 <= y < cols:\n",
        "            visited.add((x, y, direction))\n",
        "            path_map[x][y] = '#'\n",
        "            cell = map_2d[x][y]\n",
        "\n",
        "            # Handling mirrors\n",
        "            if cell == '/':\n",
        "                direction = 'up' if direction == 'right' else \\\n",
        "                            'down' if direction == 'left' else \\\n",
        "                            'left' if direction == 'down' else \\\n",
        "                            'right'\n",
        "            elif cell == '\\\\':\n",
        "                direction = 'down' if direction == 'right' else \\\n",
        "                            'up' if direction == 'left' else \\\n",
        "                            'right' if direction == 'down' else \\\n",
        "                            'left'\n",
        "\n",
        "            # Handling splitters\n",
        "            elif cell == '|':\n",
        "                if direction in ['left', 'right']:\n",
        "                    if (x, y, 'up') not in visited:\n",
        "                        queue.append((x, y, 'up'))\n",
        "                    if (x, y, 'down') not in visited:\n",
        "                        queue.append((x, y, 'down'))\n",
        "                    continue  # Skip the regular movement as the beam is split\n",
        "            elif cell == '-':\n",
        "                if direction in ['up', 'down']:\n",
        "                    if (x, y, 'left') not in visited:\n",
        "                        queue.append((x, y, 'left'))\n",
        "                    if (x, y, 'right') not in visited:\n",
        "                        queue.append((x, y, 'right'))\n",
        "                    continue  # Skip the regular movement as the beam is split\n",
        "\n",
        "            # Regular movement\n",
        "            dx, dy = directions[direction]\n",
        "            nx, ny = x + dx, y + dy\n",
        "            if (nx, ny, direction) not in visited and 0 <= nx < rows and 0 <= ny < cols:\n",
        "                queue.append((nx, ny, direction))\n",
        "\n",
        "    return [''.join(row) for row in path_map]\n",
        "\n",
        "output_map_bfs = trace_light_path_bfs(input)\n",
        "sum(row.count('#') for row in output_map_bfs)"
      ],
      "metadata": {
        "colab": {
          "base_uri": "https://localhost:8080/"
        },
        "id": "r7F3qqVqRKd1",
        "outputId": "94bdb890-9562-45aa-bbf2-a5cf6dcdf626"
      },
      "execution_count": null,
      "outputs": [
        {
          "output_type": "execute_result",
          "data": {
            "text/plain": [
              "7632"
            ]
          },
          "metadata": {},
          "execution_count": 97
        }
      ]
    },
    {
      "cell_type": "code",
      "source": [
        "def trace_light_path_bfs(map_2d, start_x, start_y, start_direction):\n",
        "    rows = len(map_2d)\n",
        "    cols = len(map_2d[0])\n",
        "    directions = {'right': (0, 1), 'left': (0, -1), 'up': (-1, 0), 'down': (1, 0)}\n",
        "    path_map = [['.' for _ in range(cols)] for _ in range(rows)]\n",
        "    visited = set()\n",
        "    queue = deque([(start_x, start_y, start_direction)])\n",
        "\n",
        "    while queue:\n",
        "        x, y, direction = queue.popleft()\n",
        "        if (x, y, direction) not in visited and 0 <= x < rows and 0 <= y < cols:\n",
        "            visited.add((x, y, direction))\n",
        "            path_map[x][y] = '#'\n",
        "            cell = map_2d[x][y]\n",
        "\n",
        "            # Handling mirrors\n",
        "            if cell == '/':\n",
        "                direction = 'up' if direction == 'right' else \\\n",
        "                            'down' if direction == 'left' else \\\n",
        "                            'left' if direction == 'down' else \\\n",
        "                            'right'\n",
        "            elif cell == '\\\\':\n",
        "                direction = 'down' if direction == 'right' else \\\n",
        "                            'up' if direction == 'left' else \\\n",
        "                            'right' if direction == 'down' else \\\n",
        "                            'left'\n",
        "\n",
        "            # Handling splitters\n",
        "            elif cell == '|':\n",
        "                if direction in ['left', 'right']:\n",
        "                    if (x, y, 'up') not in visited:\n",
        "                        queue.append((x, y, 'up'))\n",
        "                    if (x, y, 'down') not in visited:\n",
        "                        queue.append((x, y, 'down'))\n",
        "                    continue\n",
        "            elif cell == '-':\n",
        "                if direction in ['up', 'down']:\n",
        "                    if (x, y, 'left') not in visited:\n",
        "                        queue.append((x, y, 'left'))\n",
        "                    if (x, y, 'right') not in visited:\n",
        "                        queue.append((x, y, 'right'))\n",
        "                    continue\n",
        "\n",
        "            # Regular movement\n",
        "            dx, dy = directions[direction]\n",
        "            nx, ny = x + dx, y + dy\n",
        "            if (nx, ny, direction) not in visited and 0 <= nx < rows and 0 <= ny < cols:\n",
        "                queue.append((nx, ny, direction))\n",
        "\n",
        "    return [''.join(row) for row in path_map]\n",
        "\n",
        "out_map = trace_light_path_bfs(input, 0, 3, 'down')\n",
        "sum(row.count('#') for row in out_map)"
      ],
      "metadata": {
        "colab": {
          "base_uri": "https://localhost:8080/"
        },
        "id": "jJw8CIrst_WV",
        "outputId": "266f7bd3-3bd1-45b9-ec2b-633833bb4f30"
      },
      "execution_count": null,
      "outputs": [
        {
          "output_type": "execute_result",
          "data": {
            "text/plain": [
              "13"
            ]
          },
          "metadata": {},
          "execution_count": 98
        }
      ]
    },
    {
      "cell_type": "code",
      "source": [
        "def count_map(map):\n",
        "  return sum(row.count('#') for row in map)\n",
        "\n",
        "rows = len(input)\n",
        "cols = len(input[0])\n",
        "largest = 0\n",
        "\n",
        "# Top row, heading downward\n",
        "for y in range(cols):\n",
        "    res = count_map(trace_light_path_bfs(input, 0, y, 'down'))\n",
        "    if res > largest: largest = res\n",
        "\n",
        "# Bottom row, heading upward\n",
        "for y in range(cols):\n",
        "    res = count_map(trace_light_path_bfs(input, rows - 1, y, 'up'))\n",
        "    if res > largest: largest = res\n",
        "\n",
        "# Leftmost column, heading right\n",
        "for x in range(rows):\n",
        "    res = count_map(trace_light_path_bfs(input, x, 0, 'right'))\n",
        "    if res > largest: largest = res\n",
        "\n",
        "# Rightmost column, heading left\n",
        "for x in range(rows):\n",
        "    res = count_map(trace_light_path_bfs(input, x, cols - 1, 'left'))\n",
        "    if res > largest: largest = res\n",
        "\n",
        "largest"
      ],
      "metadata": {
        "colab": {
          "base_uri": "https://localhost:8080/"
        },
        "id": "yvLdtIBKEChG",
        "outputId": "49ac28df-3508-455a-a89e-0b109e7f18dd"
      },
      "execution_count": null,
      "outputs": [
        {
          "output_type": "execute_result",
          "data": {
            "text/plain": [
              "8023"
            ]
          },
          "metadata": {},
          "execution_count": 99
        }
      ]
    }
  ]
}